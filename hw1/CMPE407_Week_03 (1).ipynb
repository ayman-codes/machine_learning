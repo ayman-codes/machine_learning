{
  "nbformat": 4,
  "nbformat_minor": 0,
  "metadata": {
    "colab": {
      "provenance": []
    },
    "kernelspec": {
      "name": "python3",
      "display_name": "Python 3"
    }
  },
  "cells": [
    {
      "cell_type": "code",
      "metadata": {
        "id": "_N7rDXZtU7Tg"
      },
      "source": [
        "import pandas as pd\n",
        "import numpy as np\n",
        "import matplotlib.pyplot as plt\n",
        "import seaborn as sns; sns.set()"
      ],
      "execution_count": 1,
      "outputs": []
    },
    {
      "cell_type": "markdown",
      "metadata": {
        "id": "QEsEfTL7zM03"
      },
      "source": [
        "# Preprocessing\n",
        "\n",
        "Which features should we use to train our models?"
      ]
    },
    {
      "cell_type": "code",
      "metadata": {
        "id": "i5kwHvz-0KjD"
      },
      "source": [
        "data = pd.read_csv('Mall_Customers.csv')\n",
        "print(data.head())"
      ],
      "execution_count": null,
      "outputs": []
    },
    {
      "cell_type": "code",
      "metadata": {
        "id": "Ew6MFU6u2isO"
      },
      "source": [
        "features = ['Gender', 'Age', 'Annual Income (k$)']\n",
        "target = ['Spending Score (1-100)']\n",
        "\n",
        "X = data[features].values\n",
        "y = data[target].values"
      ],
      "execution_count": 3,
      "outputs": []
    },
    {
      "cell_type": "markdown",
      "metadata": {
        "id": "3Yg-sZeF3Yc-"
      },
      "source": [
        "## One-hot encoding\n",
        "\n",
        "<img src=\"https://miro.medium.com/max/1879/1*O_pTwOZZLYZabRjw3Ga21A.png\" height=200>\n",
        "\n",
        "_* Image is taken from: https://morioh.com/p/811a5d22bbca_\n",
        "\n",
        "\n"
      ]
    },
    {
      "cell_type": "code",
      "metadata": {
        "id": "8oHv5Em-5QY8"
      },
      "source": [
        "genders = X[:, 0]\n",
        "genders"
      ],
      "execution_count": null,
      "outputs": []
    },
    {
      "cell_type": "code",
      "metadata": {
        "id": "pkm15Wmn5TW-"
      },
      "source": [
        "one_hot_encoding = []\n",
        "\n",
        "for sample in genders:\n",
        "  if sample == 'Male':\n",
        "    one_hot_encoding.append([1, 0])\n",
        "  elif sample == 'Female':\n",
        "    one_hot_encoding.append([0, 1])\n",
        "\n",
        "one_hot_encoding[:10]"
      ],
      "execution_count": null,
      "outputs": []
    },
    {
      "cell_type": "markdown",
      "metadata": {
        "id": "oR3Uws2Q3bRB"
      },
      "source": [
        "## Label encoding"
      ]
    },
    {
      "cell_type": "code",
      "metadata": {
        "id": "Eng1u3Uz8okm"
      },
      "source": [
        "X[:, 0][X[:, 0] == 'Male'] = 0\n",
        "X[:, 0][X[:, 0] == 'Female'] = 1"
      ],
      "execution_count": 6,
      "outputs": []
    },
    {
      "cell_type": "code",
      "metadata": {
        "id": "Jwt4n-2Y81ke"
      },
      "source": [
        "X[:10]"
      ],
      "execution_count": null,
      "outputs": []
    },
    {
      "cell_type": "markdown",
      "metadata": {
        "id": "Ojo-J8F12ZxN"
      },
      "source": [
        "## Normalization\n",
        "\n",
        "Are the quantities of the features equally weighted?"
      ]
    },
    {
      "cell_type": "code",
      "metadata": {
        "id": "Jy_jV6Rd9dsf"
      },
      "source": [
        "data.head()"
      ],
      "execution_count": null,
      "outputs": []
    },
    {
      "cell_type": "markdown",
      "metadata": {
        "id": "8SZbyJ9r-IaS"
      },
      "source": [
        "> Normalization\n",
        "\n",
        "$X_{norm} = \\frac{X - X_{min}}{X_{max} - X_{min}}$\n",
        "\n",
        "$X_{norm} = \\frac{X}{max(X)}$ (Max)\n",
        "\n",
        "$X_{norm} = \\frac{X}{\\sum_{i}{|X_i|}}$ (L1 Norm)\n",
        "\n",
        "$X_{norm} = \\frac{X}{\\sqrt{\\sum_{i}{X_i^2}}}$ (L2 Norm)\n",
        "\n",
        "> Standardization\n",
        "\n",
        "$X_{stad} = \\frac{X - mean(X)}{std(X)}$"
      ]
    },
    {
      "cell_type": "code",
      "metadata": {
        "id": "JSPQxC6C-G2M"
      },
      "source": [
        "minX = X.min(axis=0)\n",
        "maxX = X.max(axis=0)\n",
        "\n",
        "X = (X - minX) / (maxX - minX)\n",
        "\n",
        "# sklearn.preprocessing.normalize(X, norm='l2')"
      ],
      "execution_count": 9,
      "outputs": []
    },
    {
      "cell_type": "code",
      "metadata": {
        "id": "5Z3FUw3r-YfV"
      },
      "source": [
        "X[:10]"
      ],
      "execution_count": null,
      "outputs": []
    },
    {
      "cell_type": "markdown",
      "source": [
        "# Dealing with Empty values\n",
        "\n",
        "_Which features should be restricted from this operation?_ "
      ],
      "metadata": {
        "id": "lWjnCDq0FrC0"
      }
    },
    {
      "cell_type": "code",
      "source": [
        "titanic_data = sns.load_dataset('titanic')\n",
        "\n",
        "print(titanic_data.head())"
      ],
      "metadata": {
        "id": "TTkBiiUfFvcb"
      },
      "execution_count": null,
      "outputs": []
    },
    {
      "cell_type": "code",
      "source": [
        "## Dropping empty values\n",
        "# titanic_data = titanic_data.dropna()"
      ],
      "metadata": {
        "id": "Xy_JQaP8FwgH"
      },
      "execution_count": 12,
      "outputs": []
    },
    {
      "cell_type": "markdown",
      "source": [
        "_Can missing features be replaced with most-common or expected(mean) values? What consequences may happen?_"
      ],
      "metadata": {
        "id": "-o374ID5HERM"
      }
    },
    {
      "cell_type": "code",
      "source": [
        "## Replacing empty values with most-common or mean values\n",
        "titanic_data = sns.load_dataset('titanic')\n",
        "\n",
        "most_common_deck = titanic_data[\"deck\"].value_counts().idxmax()\n",
        "titanic_data[\"deck\"].fillna(most_common_deck, inplace=True)\n",
        "\n",
        "mean_age = titanic_data[\"age\"].mean()\n",
        "titanic_data[\"age\"].fillna(mean_age, inplace=True)\n",
        "\n",
        "most_common_embarked = titanic_data[\"embarked\"].value_counts().idxmax()\n",
        "titanic_data[\"embarked\"].fillna(most_common_embarked, inplace=True)\n",
        "\n",
        "most_common_embarked = titanic_data[\"embark_town\"].value_counts().idxmax()\n",
        "titanic_data[\"embark_town\"].fillna(most_common_embarked, inplace=True)"
      ],
      "metadata": {
        "id": "GXWCUW3YISqg"
      },
      "execution_count": 13,
      "outputs": []
    },
    {
      "cell_type": "code",
      "source": [
        "titanic_data"
      ],
      "metadata": {
        "id": "8tJQ26nWQUtc"
      },
      "execution_count": null,
      "outputs": []
    },
    {
      "cell_type": "markdown",
      "source": [
        "_What disadvantages may present in predicting empty values?_"
      ],
      "metadata": {
        "id": "LL_Qfd1pL5hq"
      }
    },
    {
      "cell_type": "code",
      "source": [
        "# Training models for empty values \n",
        "titanic_data = sns.load_dataset('titanic')\n",
        "\n",
        "# remove empty age values\n",
        "mean_age = titanic_data[\"age\"].mean()\n",
        "titanic_data[\"age\"].fillna(mean_age, inplace=True)\n",
        "# titanic_data = titanic_data[titanic_data[\"age\"].notnull()] \n",
        "\n",
        "features = [\"pclass\", \"age\", \"fare\"]\n",
        "label = \"deck\""
      ],
      "metadata": {
        "id": "OWpEUshELans"
      },
      "execution_count": 15,
      "outputs": []
    },
    {
      "cell_type": "code",
      "source": [
        "nan_idxs = titanic_data[\"deck\"].isnull()\n",
        "fill_idxs = titanic_data[\"deck\"].notnull()"
      ],
      "metadata": {
        "id": "pruTjuiaNLXg"
      },
      "execution_count": 16,
      "outputs": []
    },
    {
      "cell_type": "code",
      "source": [
        "X = titanic_data[fill_idxs][features].values\n",
        "y = titanic_data[fill_idxs][label].values"
      ],
      "metadata": {
        "id": "_G9BTzY5N9M3"
      },
      "execution_count": 17,
      "outputs": []
    },
    {
      "cell_type": "code",
      "source": [
        "from sklearn.neighbors import KNeighborsClassifier\n",
        "\n",
        "model = KNeighborsClassifier(n_neighbors=5)\n",
        "model = model.fit(X, y)"
      ],
      "metadata": {
        "id": "ZbvklOH4OR8C"
      },
      "execution_count": 18,
      "outputs": []
    },
    {
      "cell_type": "code",
      "source": [
        "predictions = model.predict(titanic_data[nan_idxs][features].values)"
      ],
      "metadata": {
        "id": "3oOhXLjZP9zP"
      },
      "execution_count": 19,
      "outputs": []
    },
    {
      "cell_type": "code",
      "source": [
        "titanic_data[nan_idxs] = titanic_data[nan_idxs].assign(deck=predictions)"
      ],
      "metadata": {
        "id": "iJPVEQahQa3x"
      },
      "execution_count": 20,
      "outputs": []
    },
    {
      "cell_type": "code",
      "source": [
        "titanic_data"
      ],
      "metadata": {
        "id": "5TebN7vcRFGs"
      },
      "execution_count": null,
      "outputs": []
    },
    {
      "cell_type": "markdown",
      "metadata": {
        "id": "ux6KKc1108p1"
      },
      "source": [
        "# Splitting the dataset"
      ]
    },
    {
      "cell_type": "code",
      "metadata": {
        "id": "HbpQ7uZhDACU"
      },
      "source": [
        "from sklearn.model_selection import train_test_split\n",
        "\n",
        "# 80% Train, 10% Validation, 10% Test\n",
        "X_train, X_test, y_train, y_test = train_test_split(X, y, test_size=0.2, random_state=42) \n",
        "\n",
        "# 80% Train, 20% Test\n",
        "X_valid, X_test, y_valid, y_test = train_test_split(X_test, y_test, test_size=0.5, random_state=42)"
      ],
      "execution_count": 22,
      "outputs": []
    },
    {
      "cell_type": "code",
      "metadata": {
        "id": "Gh6AdRyqDctl"
      },
      "source": [
        "print(f'Total # of sample in whole dataset: {len(X)}\\n')\n",
        "print(f'Total # of sample in train dataset: {len(X_train)}')\n",
        "print(f'Total # of sample in validation dataset: {len(X_valid)}')\n",
        "print(f'Total # of sample in test dataset: {len(X_test)}')"
      ],
      "execution_count": null,
      "outputs": []
    },
    {
      "cell_type": "markdown",
      "metadata": {
        "id": "POvyvn800_3o"
      },
      "source": [
        "# k-fold Cross validation\n",
        "\n",
        "<img src=\"https://www.googleapis.com/download/storage/v1/b/kaggle-forum-message-attachments/o/inbox%2F4788946%2F82b5a41b6693a313b246f02d79e972d5%2FK%20FOLD.png?generation=1608195745131795&alt=media\" height=300>\n",
        "\n",
        "_* Image is taken from: https://www.kaggle.com/discussion/204878_"
      ]
    },
    {
      "cell_type": "code",
      "metadata": {
        "id": "yZyhEnvbXxmi"
      },
      "source": [],
      "execution_count": 23,
      "outputs": []
    }
  ]
}