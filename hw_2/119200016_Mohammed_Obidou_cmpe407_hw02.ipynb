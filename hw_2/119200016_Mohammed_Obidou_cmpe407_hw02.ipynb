{
 "cells": [
  {
   "attachments": {},
   "cell_type": "markdown",
   "metadata": {},
   "source": [
    "<a id=\"1\"></a>\n",
    "<h3 style='border:0; color:Crimson'>HOMEWORK 2</h3>\n",
    "\n",
    "<ul>\n",
    "<li>Student name: Mohammed Obidou</li>\n",
    "<li>Student_id: 119200016</li>\n",
    "<li>Student email: Mohammed.obidou@bilgiedu.tr</li>\n",
    "</ul>"
   ]
  },
  {
   "attachments": {},
   "cell_type": "markdown",
   "metadata": {},
   "source": [
    "<a id=\"top\"></a>\n",
    "\n",
    "<div class=\"list-group\" id=\"list-tab\" role=\"tablist\">\n",
    "<h3 class=\"list-group-item list-group-item-action active\" data-toggle=\"list\" style='color:white; background:crimson; border:0' role=\"tab\" aria-controls=\"home\"><center>Navigation</center></h3>\n",
    "\n",
    "* [**Q1-A Spotify Analysis 🖥️**](#100)\n",
    "  \n",
    "* [**Q1-B Data Preprocessing 🧹**](#200)\n",
    "\n",
    "* [**Q1-C Data Visualization 📊**](#300)\n",
    "\n",
    "* [**Q2-A Choosing a model type 📋**](#400)\n",
    "\n",
    "* [**Q3 Training different Models 🤖**](#400)\n",
    "  \n",
    "* [**Q4 Ensemble Learning 🧠**](#500)"
   ]
  },
  {
   "attachments": {},
   "cell_type": "markdown",
   "metadata": {},
   "source": [
    "![Spotify](https://wallpaperaccess.com/full/667773.jpg)"
   ]
  },
  {
   "attachments": {},
   "cell_type": "markdown",
   "metadata": {},
   "source": [
    "Imports"
   ]
  },
  {
   "cell_type": "code",
   "execution_count": 1,
   "metadata": {
    "tags": []
   },
   "outputs": [],
   "source": [
    "\n",
    "import pandas as pd\n",
    "import matplotlib.pyplot as plt\n",
    "import seaborn as sns\n",
    "from fractions import Fraction\n",
    "import plotly.graph_objects as go\n",
    "from plotly.subplots import make_subplots\n",
    "import plotly.express as px\n",
    "import plotly.figure_factory as ff\n",
    "import random\n",
    "import numpy as np\n",
    "from sklearn.preprocessing import *\n",
    "from sklearn.model_selection import *\n",
    "from sklearn.linear_model import *\n",
    "from sklearn.feature_selection import *\n",
    "from sklearn.ensemble import *\n",
    "import xgboost as xgb\n",
    "from sklearn.tree import *\n",
    "from sklearn.svm import SVR\n",
    "from sklearn.metrics import *\n",
    "import warnings\n",
    "warnings.filterwarnings(\"ignore\")"
   ]
  },
  {
   "attachments": {},
   "cell_type": "markdown",
   "metadata": {},
   "source": [
    "<a id=100></a>\n",
    "<h4 style= 'Background:deeppink; color:white; border:0'><center>Q1-A Spotify Analysis 🖥️</center></h3>"
   ]
  },
  {
   "cell_type": "code",
   "execution_count": 2,
   "metadata": {},
   "outputs": [
    {
     "data": {
      "text/html": [
       "<div>\n",
       "<style scoped>\n",
       "    .dataframe tbody tr th:only-of-type {\n",
       "        vertical-align: middle;\n",
       "    }\n",
       "\n",
       "    .dataframe tbody tr th {\n",
       "        vertical-align: top;\n",
       "    }\n",
       "\n",
       "    .dataframe thead th {\n",
       "        text-align: right;\n",
       "    }\n",
       "</style>\n",
       "<table border=\"1\" class=\"dataframe\">\n",
       "  <thead>\n",
       "    <tr style=\"text-align: right;\">\n",
       "      <th></th>\n",
       "      <th>danceability</th>\n",
       "      <th>energy</th>\n",
       "      <th>key</th>\n",
       "      <th>loudness</th>\n",
       "      <th>mode</th>\n",
       "      <th>speechiness</th>\n",
       "      <th>acousticness</th>\n",
       "      <th>instrumentalness</th>\n",
       "      <th>liveness</th>\n",
       "      <th>valence</th>\n",
       "      <th>tempo</th>\n",
       "      <th>duration_ms</th>\n",
       "      <th>time_signature</th>\n",
       "      <th>liked</th>\n",
       "    </tr>\n",
       "  </thead>\n",
       "  <tbody>\n",
       "    <tr>\n",
       "      <th>0</th>\n",
       "      <td>0.803</td>\n",
       "      <td>0.6240</td>\n",
       "      <td>7</td>\n",
       "      <td>-6.764</td>\n",
       "      <td>0</td>\n",
       "      <td>0.0477</td>\n",
       "      <td>0.4510</td>\n",
       "      <td>0.000734</td>\n",
       "      <td>0.1000</td>\n",
       "      <td>0.6280</td>\n",
       "      <td>95.968</td>\n",
       "      <td>304524</td>\n",
       "      <td>4</td>\n",
       "      <td>0</td>\n",
       "    </tr>\n",
       "    <tr>\n",
       "      <th>1</th>\n",
       "      <td>0.762</td>\n",
       "      <td>0.7030</td>\n",
       "      <td>10</td>\n",
       "      <td>-7.951</td>\n",
       "      <td>0</td>\n",
       "      <td>0.3060</td>\n",
       "      <td>0.2060</td>\n",
       "      <td>0.000000</td>\n",
       "      <td>0.0912</td>\n",
       "      <td>0.5190</td>\n",
       "      <td>151.329</td>\n",
       "      <td>247178</td>\n",
       "      <td>4</td>\n",
       "      <td>1</td>\n",
       "    </tr>\n",
       "    <tr>\n",
       "      <th>2</th>\n",
       "      <td>0.261</td>\n",
       "      <td>0.0149</td>\n",
       "      <td>1</td>\n",
       "      <td>-27.528</td>\n",
       "      <td>1</td>\n",
       "      <td>0.0419</td>\n",
       "      <td>0.9920</td>\n",
       "      <td>0.897000</td>\n",
       "      <td>0.1020</td>\n",
       "      <td>0.0382</td>\n",
       "      <td>75.296</td>\n",
       "      <td>286987</td>\n",
       "      <td>4</td>\n",
       "      <td>0</td>\n",
       "    </tr>\n",
       "    <tr>\n",
       "      <th>3</th>\n",
       "      <td>0.722</td>\n",
       "      <td>0.7360</td>\n",
       "      <td>3</td>\n",
       "      <td>-6.994</td>\n",
       "      <td>0</td>\n",
       "      <td>0.0585</td>\n",
       "      <td>0.4310</td>\n",
       "      <td>0.000001</td>\n",
       "      <td>0.1230</td>\n",
       "      <td>0.5820</td>\n",
       "      <td>89.860</td>\n",
       "      <td>208920</td>\n",
       "      <td>4</td>\n",
       "      <td>1</td>\n",
       "    </tr>\n",
       "    <tr>\n",
       "      <th>4</th>\n",
       "      <td>0.787</td>\n",
       "      <td>0.5720</td>\n",
       "      <td>1</td>\n",
       "      <td>-7.516</td>\n",
       "      <td>1</td>\n",
       "      <td>0.2220</td>\n",
       "      <td>0.1450</td>\n",
       "      <td>0.000000</td>\n",
       "      <td>0.0753</td>\n",
       "      <td>0.6470</td>\n",
       "      <td>155.117</td>\n",
       "      <td>179413</td>\n",
       "      <td>4</td>\n",
       "      <td>1</td>\n",
       "    </tr>\n",
       "    <tr>\n",
       "      <th>...</th>\n",
       "      <td>...</td>\n",
       "      <td>...</td>\n",
       "      <td>...</td>\n",
       "      <td>...</td>\n",
       "      <td>...</td>\n",
       "      <td>...</td>\n",
       "      <td>...</td>\n",
       "      <td>...</td>\n",
       "      <td>...</td>\n",
       "      <td>...</td>\n",
       "      <td>...</td>\n",
       "      <td>...</td>\n",
       "      <td>...</td>\n",
       "      <td>...</td>\n",
       "    </tr>\n",
       "    <tr>\n",
       "      <th>190</th>\n",
       "      <td>0.166</td>\n",
       "      <td>0.0551</td>\n",
       "      <td>9</td>\n",
       "      <td>-19.494</td>\n",
       "      <td>0</td>\n",
       "      <td>0.0520</td>\n",
       "      <td>0.9760</td>\n",
       "      <td>0.635000</td>\n",
       "      <td>0.1190</td>\n",
       "      <td>0.1430</td>\n",
       "      <td>176.616</td>\n",
       "      <td>206520</td>\n",
       "      <td>3</td>\n",
       "      <td>0</td>\n",
       "    </tr>\n",
       "    <tr>\n",
       "      <th>191</th>\n",
       "      <td>0.862</td>\n",
       "      <td>0.6240</td>\n",
       "      <td>3</td>\n",
       "      <td>-11.630</td>\n",
       "      <td>1</td>\n",
       "      <td>0.0565</td>\n",
       "      <td>0.0192</td>\n",
       "      <td>0.000153</td>\n",
       "      <td>0.0465</td>\n",
       "      <td>0.8820</td>\n",
       "      <td>124.896</td>\n",
       "      <td>254240</td>\n",
       "      <td>4</td>\n",
       "      <td>0</td>\n",
       "    </tr>\n",
       "    <tr>\n",
       "      <th>192</th>\n",
       "      <td>0.499</td>\n",
       "      <td>0.3510</td>\n",
       "      <td>9</td>\n",
       "      <td>-11.509</td>\n",
       "      <td>0</td>\n",
       "      <td>0.0448</td>\n",
       "      <td>0.9510</td>\n",
       "      <td>0.000099</td>\n",
       "      <td>0.1180</td>\n",
       "      <td>0.6160</td>\n",
       "      <td>90.664</td>\n",
       "      <td>235947</td>\n",
       "      <td>4</td>\n",
       "      <td>0</td>\n",
       "    </tr>\n",
       "    <tr>\n",
       "      <th>193</th>\n",
       "      <td>0.574</td>\n",
       "      <td>0.7290</td>\n",
       "      <td>10</td>\n",
       "      <td>-5.838</td>\n",
       "      <td>0</td>\n",
       "      <td>0.0965</td>\n",
       "      <td>0.0406</td>\n",
       "      <td>0.000004</td>\n",
       "      <td>0.1940</td>\n",
       "      <td>0.4130</td>\n",
       "      <td>110.547</td>\n",
       "      <td>190239</td>\n",
       "      <td>5</td>\n",
       "      <td>1</td>\n",
       "    </tr>\n",
       "    <tr>\n",
       "      <th>194</th>\n",
       "      <td>0.747</td>\n",
       "      <td>0.6660</td>\n",
       "      <td>11</td>\n",
       "      <td>-7.845</td>\n",
       "      <td>1</td>\n",
       "      <td>0.1970</td>\n",
       "      <td>0.1300</td>\n",
       "      <td>0.000000</td>\n",
       "      <td>0.3600</td>\n",
       "      <td>0.5310</td>\n",
       "      <td>77.507</td>\n",
       "      <td>177213</td>\n",
       "      <td>4</td>\n",
       "      <td>1</td>\n",
       "    </tr>\n",
       "  </tbody>\n",
       "</table>\n",
       "<p>195 rows × 14 columns</p>\n",
       "</div>"
      ],
      "text/plain": [
       "     danceability  energy  key  loudness  mode  speechiness  acousticness  \\\n",
       "0           0.803  0.6240    7    -6.764     0       0.0477        0.4510   \n",
       "1           0.762  0.7030   10    -7.951     0       0.3060        0.2060   \n",
       "2           0.261  0.0149    1   -27.528     1       0.0419        0.9920   \n",
       "3           0.722  0.7360    3    -6.994     0       0.0585        0.4310   \n",
       "4           0.787  0.5720    1    -7.516     1       0.2220        0.1450   \n",
       "..            ...     ...  ...       ...   ...          ...           ...   \n",
       "190         0.166  0.0551    9   -19.494     0       0.0520        0.9760   \n",
       "191         0.862  0.6240    3   -11.630     1       0.0565        0.0192   \n",
       "192         0.499  0.3510    9   -11.509     0       0.0448        0.9510   \n",
       "193         0.574  0.7290   10    -5.838     0       0.0965        0.0406   \n",
       "194         0.747  0.6660   11    -7.845     1       0.1970        0.1300   \n",
       "\n",
       "     instrumentalness  liveness  valence    tempo  duration_ms  \\\n",
       "0            0.000734    0.1000   0.6280   95.968       304524   \n",
       "1            0.000000    0.0912   0.5190  151.329       247178   \n",
       "2            0.897000    0.1020   0.0382   75.296       286987   \n",
       "3            0.000001    0.1230   0.5820   89.860       208920   \n",
       "4            0.000000    0.0753   0.6470  155.117       179413   \n",
       "..                ...       ...      ...      ...          ...   \n",
       "190          0.635000    0.1190   0.1430  176.616       206520   \n",
       "191          0.000153    0.0465   0.8820  124.896       254240   \n",
       "192          0.000099    0.1180   0.6160   90.664       235947   \n",
       "193          0.000004    0.1940   0.4130  110.547       190239   \n",
       "194          0.000000    0.3600   0.5310   77.507       177213   \n",
       "\n",
       "     time_signature  liked  \n",
       "0                 4      0  \n",
       "1                 4      1  \n",
       "2                 4      0  \n",
       "3                 4      1  \n",
       "4                 4      1  \n",
       "..              ...    ...  \n",
       "190               3      0  \n",
       "191               4      0  \n",
       "192               4      0  \n",
       "193               5      1  \n",
       "194               4      1  \n",
       "\n",
       "[195 rows x 14 columns]"
      ]
     },
     "execution_count": 2,
     "metadata": {},
     "output_type": "execute_result"
    }
   ],
   "source": [
    "spotify = pd.read_csv('data.csv')\n",
    "spotify"
   ]
  },
  {
   "attachments": {},
   "cell_type": "markdown",
   "metadata": {},
   "source": [
    "well we don't have a ton of data infact the data is too small imo for any model to be \n",
    "dependable or accurate regardless of the accuracy"
   ]
  },
  {
   "attachments": {},
   "cell_type": "markdown",
   "metadata": {},
   "source": [
    "---"
   ]
  },
  {
   "attachments": {},
   "cell_type": "markdown",
   "metadata": {},
   "source": [
    "* Get the statistics of the dataset\n",
    "* what we really care about is count, mean, std and min"
   ]
  },
  {
   "cell_type": "code",
   "execution_count": 3,
   "metadata": {},
   "outputs": [
    {
     "data": {
      "text/html": [
       "<div>\n",
       "<style scoped>\n",
       "    .dataframe tbody tr th:only-of-type {\n",
       "        vertical-align: middle;\n",
       "    }\n",
       "\n",
       "    .dataframe tbody tr th {\n",
       "        vertical-align: top;\n",
       "    }\n",
       "\n",
       "    .dataframe thead th {\n",
       "        text-align: right;\n",
       "    }\n",
       "</style>\n",
       "<table border=\"1\" class=\"dataframe\">\n",
       "  <thead>\n",
       "    <tr style=\"text-align: right;\">\n",
       "      <th></th>\n",
       "      <th>danceability</th>\n",
       "      <th>energy</th>\n",
       "      <th>key</th>\n",
       "      <th>loudness</th>\n",
       "      <th>mode</th>\n",
       "      <th>speechiness</th>\n",
       "      <th>acousticness</th>\n",
       "      <th>instrumentalness</th>\n",
       "      <th>liveness</th>\n",
       "      <th>valence</th>\n",
       "      <th>tempo</th>\n",
       "      <th>duration_ms</th>\n",
       "      <th>time_signature</th>\n",
       "      <th>liked</th>\n",
       "    </tr>\n",
       "  </thead>\n",
       "  <tbody>\n",
       "    <tr>\n",
       "      <th>count</th>\n",
       "      <td>195.000000</td>\n",
       "      <td>195.000000</td>\n",
       "      <td>195.000000</td>\n",
       "      <td>195.000000</td>\n",
       "      <td>195.000000</td>\n",
       "      <td>195.000000</td>\n",
       "      <td>195.000000</td>\n",
       "      <td>195.000000</td>\n",
       "      <td>195.000000</td>\n",
       "      <td>195.000000</td>\n",
       "      <td>195.000000</td>\n",
       "      <td>195.000000</td>\n",
       "      <td>195.000000</td>\n",
       "      <td>195.000000</td>\n",
       "    </tr>\n",
       "    <tr>\n",
       "      <th>mean</th>\n",
       "      <td>0.636656</td>\n",
       "      <td>0.638431</td>\n",
       "      <td>5.497436</td>\n",
       "      <td>-9.481631</td>\n",
       "      <td>0.538462</td>\n",
       "      <td>0.148957</td>\n",
       "      <td>0.319093</td>\n",
       "      <td>0.192337</td>\n",
       "      <td>0.148455</td>\n",
       "      <td>0.493632</td>\n",
       "      <td>121.086174</td>\n",
       "      <td>213408.933333</td>\n",
       "      <td>3.912821</td>\n",
       "      <td>0.512821</td>\n",
       "    </tr>\n",
       "    <tr>\n",
       "      <th>std</th>\n",
       "      <td>0.216614</td>\n",
       "      <td>0.260096</td>\n",
       "      <td>3.415209</td>\n",
       "      <td>6.525086</td>\n",
       "      <td>0.499802</td>\n",
       "      <td>0.120414</td>\n",
       "      <td>0.320782</td>\n",
       "      <td>0.346226</td>\n",
       "      <td>0.105975</td>\n",
       "      <td>0.267695</td>\n",
       "      <td>28.084829</td>\n",
       "      <td>72152.392864</td>\n",
       "      <td>0.451332</td>\n",
       "      <td>0.501122</td>\n",
       "    </tr>\n",
       "    <tr>\n",
       "      <th>min</th>\n",
       "      <td>0.130000</td>\n",
       "      <td>0.002400</td>\n",
       "      <td>0.000000</td>\n",
       "      <td>-42.261000</td>\n",
       "      <td>0.000000</td>\n",
       "      <td>0.027800</td>\n",
       "      <td>0.000003</td>\n",
       "      <td>0.000000</td>\n",
       "      <td>0.033100</td>\n",
       "      <td>0.035300</td>\n",
       "      <td>60.171000</td>\n",
       "      <td>77203.000000</td>\n",
       "      <td>1.000000</td>\n",
       "      <td>0.000000</td>\n",
       "    </tr>\n",
       "    <tr>\n",
       "      <th>25%</th>\n",
       "      <td>0.462500</td>\n",
       "      <td>0.533500</td>\n",
       "      <td>2.000000</td>\n",
       "      <td>-9.962000</td>\n",
       "      <td>0.000000</td>\n",
       "      <td>0.056800</td>\n",
       "      <td>0.042200</td>\n",
       "      <td>0.000000</td>\n",
       "      <td>0.084000</td>\n",
       "      <td>0.269000</td>\n",
       "      <td>100.242000</td>\n",
       "      <td>178300.500000</td>\n",
       "      <td>4.000000</td>\n",
       "      <td>0.000000</td>\n",
       "    </tr>\n",
       "    <tr>\n",
       "      <th>50%</th>\n",
       "      <td>0.705000</td>\n",
       "      <td>0.659000</td>\n",
       "      <td>6.000000</td>\n",
       "      <td>-7.766000</td>\n",
       "      <td>1.000000</td>\n",
       "      <td>0.096200</td>\n",
       "      <td>0.213000</td>\n",
       "      <td>0.000008</td>\n",
       "      <td>0.105000</td>\n",
       "      <td>0.525000</td>\n",
       "      <td>124.896000</td>\n",
       "      <td>204000.000000</td>\n",
       "      <td>4.000000</td>\n",
       "      <td>1.000000</td>\n",
       "    </tr>\n",
       "    <tr>\n",
       "      <th>75%</th>\n",
       "      <td>0.799000</td>\n",
       "      <td>0.837500</td>\n",
       "      <td>8.000000</td>\n",
       "      <td>-5.829000</td>\n",
       "      <td>1.000000</td>\n",
       "      <td>0.230500</td>\n",
       "      <td>0.504000</td>\n",
       "      <td>0.097500</td>\n",
       "      <td>0.177000</td>\n",
       "      <td>0.717500</td>\n",
       "      <td>142.460500</td>\n",
       "      <td>242373.500000</td>\n",
       "      <td>4.000000</td>\n",
       "      <td>1.000000</td>\n",
       "    </tr>\n",
       "    <tr>\n",
       "      <th>max</th>\n",
       "      <td>0.946000</td>\n",
       "      <td>0.996000</td>\n",
       "      <td>11.000000</td>\n",
       "      <td>-2.336000</td>\n",
       "      <td>1.000000</td>\n",
       "      <td>0.540000</td>\n",
       "      <td>0.995000</td>\n",
       "      <td>0.969000</td>\n",
       "      <td>0.633000</td>\n",
       "      <td>0.980000</td>\n",
       "      <td>180.036000</td>\n",
       "      <td>655213.000000</td>\n",
       "      <td>5.000000</td>\n",
       "      <td>1.000000</td>\n",
       "    </tr>\n",
       "  </tbody>\n",
       "</table>\n",
       "</div>"
      ],
      "text/plain": [
       "       danceability      energy         key    loudness        mode  \\\n",
       "count    195.000000  195.000000  195.000000  195.000000  195.000000   \n",
       "mean       0.636656    0.638431    5.497436   -9.481631    0.538462   \n",
       "std        0.216614    0.260096    3.415209    6.525086    0.499802   \n",
       "min        0.130000    0.002400    0.000000  -42.261000    0.000000   \n",
       "25%        0.462500    0.533500    2.000000   -9.962000    0.000000   \n",
       "50%        0.705000    0.659000    6.000000   -7.766000    1.000000   \n",
       "75%        0.799000    0.837500    8.000000   -5.829000    1.000000   \n",
       "max        0.946000    0.996000   11.000000   -2.336000    1.000000   \n",
       "\n",
       "       speechiness  acousticness  instrumentalness    liveness     valence  \\\n",
       "count   195.000000    195.000000        195.000000  195.000000  195.000000   \n",
       "mean      0.148957      0.319093          0.192337    0.148455    0.493632   \n",
       "std       0.120414      0.320782          0.346226    0.105975    0.267695   \n",
       "min       0.027800      0.000003          0.000000    0.033100    0.035300   \n",
       "25%       0.056800      0.042200          0.000000    0.084000    0.269000   \n",
       "50%       0.096200      0.213000          0.000008    0.105000    0.525000   \n",
       "75%       0.230500      0.504000          0.097500    0.177000    0.717500   \n",
       "max       0.540000      0.995000          0.969000    0.633000    0.980000   \n",
       "\n",
       "            tempo    duration_ms  time_signature       liked  \n",
       "count  195.000000     195.000000      195.000000  195.000000  \n",
       "mean   121.086174  213408.933333        3.912821    0.512821  \n",
       "std     28.084829   72152.392864        0.451332    0.501122  \n",
       "min     60.171000   77203.000000        1.000000    0.000000  \n",
       "25%    100.242000  178300.500000        4.000000    0.000000  \n",
       "50%    124.896000  204000.000000        4.000000    1.000000  \n",
       "75%    142.460500  242373.500000        4.000000    1.000000  \n",
       "max    180.036000  655213.000000        5.000000    1.000000  "
      ]
     },
     "execution_count": 3,
     "metadata": {},
     "output_type": "execute_result"
    }
   ],
   "source": [
    "spotify.describe()"
   ]
  },
  {
   "cell_type": "code",
   "execution_count": 4,
   "metadata": {},
   "outputs": [
    {
     "data": {
      "text/html": [
       "<div>\n",
       "<style scoped>\n",
       "    .dataframe tbody tr th:only-of-type {\n",
       "        vertical-align: middle;\n",
       "    }\n",
       "\n",
       "    .dataframe tbody tr th {\n",
       "        vertical-align: top;\n",
       "    }\n",
       "\n",
       "    .dataframe thead th {\n",
       "        text-align: right;\n",
       "    }\n",
       "</style>\n",
       "<table border=\"1\" class=\"dataframe\">\n",
       "  <thead>\n",
       "    <tr style=\"text-align: right;\">\n",
       "      <th></th>\n",
       "      <th>0</th>\n",
       "      <th>1</th>\n",
       "      <th>2</th>\n",
       "      <th>3</th>\n",
       "      <th>4</th>\n",
       "      <th>5</th>\n",
       "      <th>6</th>\n",
       "      <th>7</th>\n",
       "      <th>8</th>\n",
       "      <th>9</th>\n",
       "      <th>...</th>\n",
       "      <th>185</th>\n",
       "      <th>186</th>\n",
       "      <th>187</th>\n",
       "      <th>188</th>\n",
       "      <th>189</th>\n",
       "      <th>190</th>\n",
       "      <th>191</th>\n",
       "      <th>192</th>\n",
       "      <th>193</th>\n",
       "      <th>194</th>\n",
       "    </tr>\n",
       "  </thead>\n",
       "  <tbody>\n",
       "    <tr>\n",
       "      <th>danceability</th>\n",
       "      <td>0.803000</td>\n",
       "      <td>0.7620</td>\n",
       "      <td>0.2610</td>\n",
       "      <td>0.722000</td>\n",
       "      <td>0.7870</td>\n",
       "      <td>0.7780</td>\n",
       "      <td>0.666</td>\n",
       "      <td>0.92200</td>\n",
       "      <td>0.79400</td>\n",
       "      <td>0.853</td>\n",
       "      <td>...</td>\n",
       "      <td>0.583000</td>\n",
       "      <td>0.5330</td>\n",
       "      <td>0.8640</td>\n",
       "      <td>0.856</td>\n",
       "      <td>0.225000</td>\n",
       "      <td>0.1660</td>\n",
       "      <td>0.862000</td>\n",
       "      <td>0.499000</td>\n",
       "      <td>0.574000</td>\n",
       "      <td>0.747</td>\n",
       "    </tr>\n",
       "    <tr>\n",
       "      <th>energy</th>\n",
       "      <td>0.624000</td>\n",
       "      <td>0.7030</td>\n",
       "      <td>0.0149</td>\n",
       "      <td>0.736000</td>\n",
       "      <td>0.5720</td>\n",
       "      <td>0.6320</td>\n",
       "      <td>0.589</td>\n",
       "      <td>0.71200</td>\n",
       "      <td>0.65900</td>\n",
       "      <td>0.668</td>\n",
       "      <td>...</td>\n",
       "      <td>0.381000</td>\n",
       "      <td>0.5930</td>\n",
       "      <td>0.6290</td>\n",
       "      <td>0.602</td>\n",
       "      <td>0.980000</td>\n",
       "      <td>0.0551</td>\n",
       "      <td>0.624000</td>\n",
       "      <td>0.351000</td>\n",
       "      <td>0.729000</td>\n",
       "      <td>0.666</td>\n",
       "    </tr>\n",
       "    <tr>\n",
       "      <th>key</th>\n",
       "      <td>7.000000</td>\n",
       "      <td>10.0000</td>\n",
       "      <td>1.0000</td>\n",
       "      <td>3.000000</td>\n",
       "      <td>1.0000</td>\n",
       "      <td>8.0000</td>\n",
       "      <td>0.000</td>\n",
       "      <td>7.00000</td>\n",
       "      <td>7.00000</td>\n",
       "      <td>3.000</td>\n",
       "      <td>...</td>\n",
       "      <td>9.000000</td>\n",
       "      <td>11.0000</td>\n",
       "      <td>1.0000</td>\n",
       "      <td>0.000</td>\n",
       "      <td>6.000000</td>\n",
       "      <td>9.0000</td>\n",
       "      <td>3.000000</td>\n",
       "      <td>9.000000</td>\n",
       "      <td>10.000000</td>\n",
       "      <td>11.000</td>\n",
       "    </tr>\n",
       "    <tr>\n",
       "      <th>loudness</th>\n",
       "      <td>-6.764000</td>\n",
       "      <td>-7.9510</td>\n",
       "      <td>-27.5280</td>\n",
       "      <td>-6.994000</td>\n",
       "      <td>-7.5160</td>\n",
       "      <td>-6.4150</td>\n",
       "      <td>-8.405</td>\n",
       "      <td>-6.02400</td>\n",
       "      <td>-7.06300</td>\n",
       "      <td>-6.995</td>\n",
       "      <td>...</td>\n",
       "      <td>-10.033000</td>\n",
       "      <td>-5.2840</td>\n",
       "      <td>-6.6020</td>\n",
       "      <td>-8.173</td>\n",
       "      <td>-5.626000</td>\n",
       "      <td>-19.4940</td>\n",
       "      <td>-11.630000</td>\n",
       "      <td>-11.509000</td>\n",
       "      <td>-5.838000</td>\n",
       "      <td>-7.845</td>\n",
       "    </tr>\n",
       "    <tr>\n",
       "      <th>mode</th>\n",
       "      <td>0.000000</td>\n",
       "      <td>0.0000</td>\n",
       "      <td>1.0000</td>\n",
       "      <td>0.000000</td>\n",
       "      <td>1.0000</td>\n",
       "      <td>1.0000</td>\n",
       "      <td>0.000</td>\n",
       "      <td>1.00000</td>\n",
       "      <td>0.00000</td>\n",
       "      <td>1.000</td>\n",
       "      <td>...</td>\n",
       "      <td>0.000000</td>\n",
       "      <td>1.0000</td>\n",
       "      <td>0.0000</td>\n",
       "      <td>0.000</td>\n",
       "      <td>1.000000</td>\n",
       "      <td>0.0000</td>\n",
       "      <td>1.000000</td>\n",
       "      <td>0.000000</td>\n",
       "      <td>0.000000</td>\n",
       "      <td>1.000</td>\n",
       "    </tr>\n",
       "    <tr>\n",
       "      <th>speechiness</th>\n",
       "      <td>0.047700</td>\n",
       "      <td>0.3060</td>\n",
       "      <td>0.0419</td>\n",
       "      <td>0.058500</td>\n",
       "      <td>0.2220</td>\n",
       "      <td>0.1250</td>\n",
       "      <td>0.324</td>\n",
       "      <td>0.17100</td>\n",
       "      <td>0.04980</td>\n",
       "      <td>0.447</td>\n",
       "      <td>...</td>\n",
       "      <td>0.042900</td>\n",
       "      <td>0.0581</td>\n",
       "      <td>0.2790</td>\n",
       "      <td>0.336</td>\n",
       "      <td>0.143000</td>\n",
       "      <td>0.0520</td>\n",
       "      <td>0.056500</td>\n",
       "      <td>0.044800</td>\n",
       "      <td>0.096500</td>\n",
       "      <td>0.197</td>\n",
       "    </tr>\n",
       "    <tr>\n",
       "      <th>acousticness</th>\n",
       "      <td>0.451000</td>\n",
       "      <td>0.2060</td>\n",
       "      <td>0.9920</td>\n",
       "      <td>0.431000</td>\n",
       "      <td>0.1450</td>\n",
       "      <td>0.0404</td>\n",
       "      <td>0.555</td>\n",
       "      <td>0.07790</td>\n",
       "      <td>0.14300</td>\n",
       "      <td>0.263</td>\n",
       "      <td>...</td>\n",
       "      <td>0.416000</td>\n",
       "      <td>0.1560</td>\n",
       "      <td>0.0987</td>\n",
       "      <td>0.127</td>\n",
       "      <td>0.000006</td>\n",
       "      <td>0.9760</td>\n",
       "      <td>0.019200</td>\n",
       "      <td>0.951000</td>\n",
       "      <td>0.040600</td>\n",
       "      <td>0.130</td>\n",
       "    </tr>\n",
       "    <tr>\n",
       "      <th>instrumentalness</th>\n",
       "      <td>0.000734</td>\n",
       "      <td>0.0000</td>\n",
       "      <td>0.8970</td>\n",
       "      <td>0.000001</td>\n",
       "      <td>0.0000</td>\n",
       "      <td>0.0000</td>\n",
       "      <td>0.000</td>\n",
       "      <td>0.00004</td>\n",
       "      <td>0.00224</td>\n",
       "      <td>0.000</td>\n",
       "      <td>...</td>\n",
       "      <td>0.000226</td>\n",
       "      <td>0.0262</td>\n",
       "      <td>0.0000</td>\n",
       "      <td>0.000</td>\n",
       "      <td>0.860000</td>\n",
       "      <td>0.6350</td>\n",
       "      <td>0.000153</td>\n",
       "      <td>0.000099</td>\n",
       "      <td>0.000004</td>\n",
       "      <td>0.000</td>\n",
       "    </tr>\n",
       "    <tr>\n",
       "      <th>liveness</th>\n",
       "      <td>0.100000</td>\n",
       "      <td>0.0912</td>\n",
       "      <td>0.1020</td>\n",
       "      <td>0.123000</td>\n",
       "      <td>0.0753</td>\n",
       "      <td>0.0912</td>\n",
       "      <td>0.114</td>\n",
       "      <td>0.17500</td>\n",
       "      <td>0.09440</td>\n",
       "      <td>0.104</td>\n",
       "      <td>...</td>\n",
       "      <td>0.095800</td>\n",
       "      <td>0.0819</td>\n",
       "      <td>0.0737</td>\n",
       "      <td>0.115</td>\n",
       "      <td>0.065300</td>\n",
       "      <td>0.1190</td>\n",
       "      <td>0.046500</td>\n",
       "      <td>0.118000</td>\n",
       "      <td>0.194000</td>\n",
       "      <td>0.360</td>\n",
       "    </tr>\n",
       "    <tr>\n",
       "      <th>valence</th>\n",
       "      <td>0.628000</td>\n",
       "      <td>0.5190</td>\n",
       "      <td>0.0382</td>\n",
       "      <td>0.582000</td>\n",
       "      <td>0.6470</td>\n",
       "      <td>0.8270</td>\n",
       "      <td>0.776</td>\n",
       "      <td>0.90400</td>\n",
       "      <td>0.30800</td>\n",
       "      <td>0.745</td>\n",
       "      <td>...</td>\n",
       "      <td>0.153000</td>\n",
       "      <td>0.0888</td>\n",
       "      <td>0.2200</td>\n",
       "      <td>0.723</td>\n",
       "      <td>0.105000</td>\n",
       "      <td>0.1430</td>\n",
       "      <td>0.882000</td>\n",
       "      <td>0.616000</td>\n",
       "      <td>0.413000</td>\n",
       "      <td>0.531</td>\n",
       "    </tr>\n",
       "    <tr>\n",
       "      <th>tempo</th>\n",
       "      <td>95.968000</td>\n",
       "      <td>151.3290</td>\n",
       "      <td>75.2960</td>\n",
       "      <td>89.860000</td>\n",
       "      <td>155.1170</td>\n",
       "      <td>140.9510</td>\n",
       "      <td>74.974</td>\n",
       "      <td>104.96400</td>\n",
       "      <td>112.01900</td>\n",
       "      <td>157.995</td>\n",
       "      <td>...</td>\n",
       "      <td>127.667000</td>\n",
       "      <td>128.6460</td>\n",
       "      <td>140.0250</td>\n",
       "      <td>142.950</td>\n",
       "      <td>115.077000</td>\n",
       "      <td>176.6160</td>\n",
       "      <td>124.896000</td>\n",
       "      <td>90.664000</td>\n",
       "      <td>110.547000</td>\n",
       "      <td>77.507</td>\n",
       "    </tr>\n",
       "    <tr>\n",
       "      <th>duration_ms</th>\n",
       "      <td>304524.000000</td>\n",
       "      <td>247178.0000</td>\n",
       "      <td>286987.0000</td>\n",
       "      <td>208920.000000</td>\n",
       "      <td>179413.0000</td>\n",
       "      <td>224029.0000</td>\n",
       "      <td>146053.000</td>\n",
       "      <td>161800.00000</td>\n",
       "      <td>247460.00000</td>\n",
       "      <td>165363.000</td>\n",
       "      <td>...</td>\n",
       "      <td>316378.000000</td>\n",
       "      <td>158547.0000</td>\n",
       "      <td>190972.0000</td>\n",
       "      <td>77203.000</td>\n",
       "      <td>285907.000000</td>\n",
       "      <td>206520.0000</td>\n",
       "      <td>254240.000000</td>\n",
       "      <td>235947.000000</td>\n",
       "      <td>190239.000000</td>\n",
       "      <td>177213.000</td>\n",
       "    </tr>\n",
       "    <tr>\n",
       "      <th>time_signature</th>\n",
       "      <td>4.000000</td>\n",
       "      <td>4.0000</td>\n",
       "      <td>4.0000</td>\n",
       "      <td>4.000000</td>\n",
       "      <td>4.0000</td>\n",
       "      <td>4.0000</td>\n",
       "      <td>4.000</td>\n",
       "      <td>4.00000</td>\n",
       "      <td>4.00000</td>\n",
       "      <td>4.000</td>\n",
       "      <td>...</td>\n",
       "      <td>4.000000</td>\n",
       "      <td>5.0000</td>\n",
       "      <td>4.0000</td>\n",
       "      <td>4.000</td>\n",
       "      <td>4.000000</td>\n",
       "      <td>3.0000</td>\n",
       "      <td>4.000000</td>\n",
       "      <td>4.000000</td>\n",
       "      <td>5.000000</td>\n",
       "      <td>4.000</td>\n",
       "    </tr>\n",
       "    <tr>\n",
       "      <th>liked</th>\n",
       "      <td>0.000000</td>\n",
       "      <td>1.0000</td>\n",
       "      <td>0.0000</td>\n",
       "      <td>1.000000</td>\n",
       "      <td>1.0000</td>\n",
       "      <td>1.0000</td>\n",
       "      <td>1.000</td>\n",
       "      <td>1.00000</td>\n",
       "      <td>0.00000</td>\n",
       "      <td>1.000</td>\n",
       "      <td>...</td>\n",
       "      <td>0.000000</td>\n",
       "      <td>1.0000</td>\n",
       "      <td>1.0000</td>\n",
       "      <td>1.000</td>\n",
       "      <td>0.000000</td>\n",
       "      <td>0.0000</td>\n",
       "      <td>0.000000</td>\n",
       "      <td>0.000000</td>\n",
       "      <td>1.000000</td>\n",
       "      <td>1.000</td>\n",
       "    </tr>\n",
       "  </tbody>\n",
       "</table>\n",
       "<p>14 rows × 195 columns</p>\n",
       "</div>"
      ],
      "text/plain": [
       "                            0            1            2              3    \\\n",
       "danceability           0.803000       0.7620       0.2610       0.722000   \n",
       "energy                 0.624000       0.7030       0.0149       0.736000   \n",
       "key                    7.000000      10.0000       1.0000       3.000000   \n",
       "loudness              -6.764000      -7.9510     -27.5280      -6.994000   \n",
       "mode                   0.000000       0.0000       1.0000       0.000000   \n",
       "speechiness            0.047700       0.3060       0.0419       0.058500   \n",
       "acousticness           0.451000       0.2060       0.9920       0.431000   \n",
       "instrumentalness       0.000734       0.0000       0.8970       0.000001   \n",
       "liveness               0.100000       0.0912       0.1020       0.123000   \n",
       "valence                0.628000       0.5190       0.0382       0.582000   \n",
       "tempo                 95.968000     151.3290      75.2960      89.860000   \n",
       "duration_ms       304524.000000  247178.0000  286987.0000  208920.000000   \n",
       "time_signature         4.000000       4.0000       4.0000       4.000000   \n",
       "liked                  0.000000       1.0000       0.0000       1.000000   \n",
       "\n",
       "                          4            5           6             7    \\\n",
       "danceability           0.7870       0.7780       0.666       0.92200   \n",
       "energy                 0.5720       0.6320       0.589       0.71200   \n",
       "key                    1.0000       8.0000       0.000       7.00000   \n",
       "loudness              -7.5160      -6.4150      -8.405      -6.02400   \n",
       "mode                   1.0000       1.0000       0.000       1.00000   \n",
       "speechiness            0.2220       0.1250       0.324       0.17100   \n",
       "acousticness           0.1450       0.0404       0.555       0.07790   \n",
       "instrumentalness       0.0000       0.0000       0.000       0.00004   \n",
       "liveness               0.0753       0.0912       0.114       0.17500   \n",
       "valence                0.6470       0.8270       0.776       0.90400   \n",
       "tempo                155.1170     140.9510      74.974     104.96400   \n",
       "duration_ms       179413.0000  224029.0000  146053.000  161800.00000   \n",
       "time_signature         4.0000       4.0000       4.000       4.00000   \n",
       "liked                  1.0000       1.0000       1.000       1.00000   \n",
       "\n",
       "                           8           9    ...            185          186  \\\n",
       "danceability           0.79400       0.853  ...       0.583000       0.5330   \n",
       "energy                 0.65900       0.668  ...       0.381000       0.5930   \n",
       "key                    7.00000       3.000  ...       9.000000      11.0000   \n",
       "loudness              -7.06300      -6.995  ...     -10.033000      -5.2840   \n",
       "mode                   0.00000       1.000  ...       0.000000       1.0000   \n",
       "speechiness            0.04980       0.447  ...       0.042900       0.0581   \n",
       "acousticness           0.14300       0.263  ...       0.416000       0.1560   \n",
       "instrumentalness       0.00224       0.000  ...       0.000226       0.0262   \n",
       "liveness               0.09440       0.104  ...       0.095800       0.0819   \n",
       "valence                0.30800       0.745  ...       0.153000       0.0888   \n",
       "tempo                112.01900     157.995  ...     127.667000     128.6460   \n",
       "duration_ms       247460.00000  165363.000  ...  316378.000000  158547.0000   \n",
       "time_signature         4.00000       4.000  ...       4.000000       5.0000   \n",
       "liked                  0.00000       1.000  ...       0.000000       1.0000   \n",
       "\n",
       "                          187        188            189          190  \\\n",
       "danceability           0.8640      0.856       0.225000       0.1660   \n",
       "energy                 0.6290      0.602       0.980000       0.0551   \n",
       "key                    1.0000      0.000       6.000000       9.0000   \n",
       "loudness              -6.6020     -8.173      -5.626000     -19.4940   \n",
       "mode                   0.0000      0.000       1.000000       0.0000   \n",
       "speechiness            0.2790      0.336       0.143000       0.0520   \n",
       "acousticness           0.0987      0.127       0.000006       0.9760   \n",
       "instrumentalness       0.0000      0.000       0.860000       0.6350   \n",
       "liveness               0.0737      0.115       0.065300       0.1190   \n",
       "valence                0.2200      0.723       0.105000       0.1430   \n",
       "tempo                140.0250    142.950     115.077000     176.6160   \n",
       "duration_ms       190972.0000  77203.000  285907.000000  206520.0000   \n",
       "time_signature         4.0000      4.000       4.000000       3.0000   \n",
       "liked                  1.0000      1.000       0.000000       0.0000   \n",
       "\n",
       "                            191            192            193         194  \n",
       "danceability           0.862000       0.499000       0.574000       0.747  \n",
       "energy                 0.624000       0.351000       0.729000       0.666  \n",
       "key                    3.000000       9.000000      10.000000      11.000  \n",
       "loudness             -11.630000     -11.509000      -5.838000      -7.845  \n",
       "mode                   1.000000       0.000000       0.000000       1.000  \n",
       "speechiness            0.056500       0.044800       0.096500       0.197  \n",
       "acousticness           0.019200       0.951000       0.040600       0.130  \n",
       "instrumentalness       0.000153       0.000099       0.000004       0.000  \n",
       "liveness               0.046500       0.118000       0.194000       0.360  \n",
       "valence                0.882000       0.616000       0.413000       0.531  \n",
       "tempo                124.896000      90.664000     110.547000      77.507  \n",
       "duration_ms       254240.000000  235947.000000  190239.000000  177213.000  \n",
       "time_signature         4.000000       4.000000       5.000000       4.000  \n",
       "liked                  0.000000       0.000000       1.000000       1.000  \n",
       "\n",
       "[14 rows x 195 columns]"
      ]
     },
     "execution_count": 4,
     "metadata": {},
     "output_type": "execute_result"
    }
   ],
   "source": [
    "spotify.transpose()"
   ]
  },
  {
   "attachments": {},
   "cell_type": "markdown",
   "metadata": {},
   "source": [
    "let's have a look at the columns"
   ]
  },
  {
   "cell_type": "code",
   "execution_count": 5,
   "metadata": {},
   "outputs": [
    {
     "data": {
      "text/plain": [
       "Index(['danceability', 'energy', 'key', 'loudness', 'mode', 'speechiness',\n",
       "       'acousticness', 'instrumentalness', 'liveness', 'valence', 'tempo',\n",
       "       'duration_ms', 'time_signature', 'liked'],\n",
       "      dtype='object')"
      ]
     },
     "execution_count": 5,
     "metadata": {},
     "output_type": "execute_result"
    }
   ],
   "source": [
    "spotify.columns"
   ]
  },
  {
   "attachments": {},
   "cell_type": "markdown",
   "metadata": {},
   "source": [
    "we've 14 features having too many features isn't always a good thing, so we should\n",
    "probably use feature engineering methods to decide which features to use"
   ]
  },
  {
   "cell_type": "code",
   "execution_count": 6,
   "metadata": {},
   "outputs": [
    {
     "data": {
      "text/plain": [
       "danceability        195\n",
       "energy              195\n",
       "key                 195\n",
       "loudness            195\n",
       "mode                195\n",
       "speechiness         195\n",
       "acousticness        195\n",
       "instrumentalness    195\n",
       "liveness            195\n",
       "valence             195\n",
       "tempo               195\n",
       "duration_ms         195\n",
       "time_signature      195\n",
       "liked               195\n",
       "dtype: int64"
      ]
     },
     "execution_count": 6,
     "metadata": {},
     "output_type": "execute_result"
    }
   ],
   "source": [
    "spotify.count()"
   ]
  },
  {
   "attachments": {},
   "cell_type": "markdown",
   "metadata": {},
   "source": [
    "so we've 195 songs. the description of the dataset the owner mentioned that his into\n",
    "metal and other similar type of songs, and that most of his songs are metal so loudness\n",
    "is probably a feature to include"
   ]
  },
  {
   "cell_type": "code",
   "execution_count": 7,
   "metadata": {},
   "outputs": [
    {
     "data": {
      "text/plain": [
       "14"
      ]
     },
     "execution_count": 7,
     "metadata": {},
     "output_type": "execute_result"
    }
   ],
   "source": [
    "len(spotify.columns)"
   ]
  },
  {
   "attachments": {},
   "cell_type": "markdown",
   "metadata": {},
   "source": [
    "<a id=200></a>\n",
    "<h4 style= 'Background:deeppink; color:white; border:0'><center>Q1-B Data preprocessing 🧹</center></h3>"
   ]
  },
  {
   "attachments": {},
   "cell_type": "markdown",
   "metadata": {},
   "source": [
    "> ### Data preprocessing\n",
    "> * **Data Cleaning**: handling missing values, dealing with noisy or inconsistent data.\n",
    ">\n",
    "> * **Data Transformation**: This involves transforming the data to make it suitable for analysis or modeling. Examples include converting categorical data to numerical data, scaling the data, and normalizing the data.\n",
    ">\n",
    "> * **Data Reduction**: reducing the size of the dataset while preserving its important features. Examples include feature selection, feature extraction, and dimensionality reduction."
   ]
  },
  {
   "attachments": {},
   "cell_type": "markdown",
   "metadata": {},
   "source": [
    "### Null values"
   ]
  },
  {
   "cell_type": "code",
   "execution_count": 8,
   "metadata": {},
   "outputs": [
    {
     "data": {
      "text/html": [
       "<div>\n",
       "<style scoped>\n",
       "    .dataframe tbody tr th:only-of-type {\n",
       "        vertical-align: middle;\n",
       "    }\n",
       "\n",
       "    .dataframe tbody tr th {\n",
       "        vertical-align: top;\n",
       "    }\n",
       "\n",
       "    .dataframe thead th {\n",
       "        text-align: right;\n",
       "    }\n",
       "</style>\n",
       "<table border=\"1\" class=\"dataframe\">\n",
       "  <thead>\n",
       "    <tr style=\"text-align: right;\">\n",
       "      <th></th>\n",
       "      <th>danceability</th>\n",
       "      <th>energy</th>\n",
       "      <th>key</th>\n",
       "      <th>loudness</th>\n",
       "      <th>mode</th>\n",
       "      <th>speechiness</th>\n",
       "      <th>acousticness</th>\n",
       "      <th>instrumentalness</th>\n",
       "      <th>liveness</th>\n",
       "      <th>valence</th>\n",
       "      <th>tempo</th>\n",
       "      <th>duration_ms</th>\n",
       "      <th>time_signature</th>\n",
       "      <th>liked</th>\n",
       "    </tr>\n",
       "  </thead>\n",
       "  <tbody>\n",
       "    <tr>\n",
       "      <th>0</th>\n",
       "      <td>False</td>\n",
       "      <td>False</td>\n",
       "      <td>False</td>\n",
       "      <td>False</td>\n",
       "      <td>False</td>\n",
       "      <td>False</td>\n",
       "      <td>False</td>\n",
       "      <td>False</td>\n",
       "      <td>False</td>\n",
       "      <td>False</td>\n",
       "      <td>False</td>\n",
       "      <td>False</td>\n",
       "      <td>False</td>\n",
       "      <td>False</td>\n",
       "    </tr>\n",
       "    <tr>\n",
       "      <th>1</th>\n",
       "      <td>False</td>\n",
       "      <td>False</td>\n",
       "      <td>False</td>\n",
       "      <td>False</td>\n",
       "      <td>False</td>\n",
       "      <td>False</td>\n",
       "      <td>False</td>\n",
       "      <td>False</td>\n",
       "      <td>False</td>\n",
       "      <td>False</td>\n",
       "      <td>False</td>\n",
       "      <td>False</td>\n",
       "      <td>False</td>\n",
       "      <td>False</td>\n",
       "    </tr>\n",
       "    <tr>\n",
       "      <th>2</th>\n",
       "      <td>False</td>\n",
       "      <td>False</td>\n",
       "      <td>False</td>\n",
       "      <td>False</td>\n",
       "      <td>False</td>\n",
       "      <td>False</td>\n",
       "      <td>False</td>\n",
       "      <td>False</td>\n",
       "      <td>False</td>\n",
       "      <td>False</td>\n",
       "      <td>False</td>\n",
       "      <td>False</td>\n",
       "      <td>False</td>\n",
       "      <td>False</td>\n",
       "    </tr>\n",
       "    <tr>\n",
       "      <th>3</th>\n",
       "      <td>False</td>\n",
       "      <td>False</td>\n",
       "      <td>False</td>\n",
       "      <td>False</td>\n",
       "      <td>False</td>\n",
       "      <td>False</td>\n",
       "      <td>False</td>\n",
       "      <td>False</td>\n",
       "      <td>False</td>\n",
       "      <td>False</td>\n",
       "      <td>False</td>\n",
       "      <td>False</td>\n",
       "      <td>False</td>\n",
       "      <td>False</td>\n",
       "    </tr>\n",
       "    <tr>\n",
       "      <th>4</th>\n",
       "      <td>False</td>\n",
       "      <td>False</td>\n",
       "      <td>False</td>\n",
       "      <td>False</td>\n",
       "      <td>False</td>\n",
       "      <td>False</td>\n",
       "      <td>False</td>\n",
       "      <td>False</td>\n",
       "      <td>False</td>\n",
       "      <td>False</td>\n",
       "      <td>False</td>\n",
       "      <td>False</td>\n",
       "      <td>False</td>\n",
       "      <td>False</td>\n",
       "    </tr>\n",
       "    <tr>\n",
       "      <th>...</th>\n",
       "      <td>...</td>\n",
       "      <td>...</td>\n",
       "      <td>...</td>\n",
       "      <td>...</td>\n",
       "      <td>...</td>\n",
       "      <td>...</td>\n",
       "      <td>...</td>\n",
       "      <td>...</td>\n",
       "      <td>...</td>\n",
       "      <td>...</td>\n",
       "      <td>...</td>\n",
       "      <td>...</td>\n",
       "      <td>...</td>\n",
       "      <td>...</td>\n",
       "    </tr>\n",
       "    <tr>\n",
       "      <th>190</th>\n",
       "      <td>False</td>\n",
       "      <td>False</td>\n",
       "      <td>False</td>\n",
       "      <td>False</td>\n",
       "      <td>False</td>\n",
       "      <td>False</td>\n",
       "      <td>False</td>\n",
       "      <td>False</td>\n",
       "      <td>False</td>\n",
       "      <td>False</td>\n",
       "      <td>False</td>\n",
       "      <td>False</td>\n",
       "      <td>False</td>\n",
       "      <td>False</td>\n",
       "    </tr>\n",
       "    <tr>\n",
       "      <th>191</th>\n",
       "      <td>False</td>\n",
       "      <td>False</td>\n",
       "      <td>False</td>\n",
       "      <td>False</td>\n",
       "      <td>False</td>\n",
       "      <td>False</td>\n",
       "      <td>False</td>\n",
       "      <td>False</td>\n",
       "      <td>False</td>\n",
       "      <td>False</td>\n",
       "      <td>False</td>\n",
       "      <td>False</td>\n",
       "      <td>False</td>\n",
       "      <td>False</td>\n",
       "    </tr>\n",
       "    <tr>\n",
       "      <th>192</th>\n",
       "      <td>False</td>\n",
       "      <td>False</td>\n",
       "      <td>False</td>\n",
       "      <td>False</td>\n",
       "      <td>False</td>\n",
       "      <td>False</td>\n",
       "      <td>False</td>\n",
       "      <td>False</td>\n",
       "      <td>False</td>\n",
       "      <td>False</td>\n",
       "      <td>False</td>\n",
       "      <td>False</td>\n",
       "      <td>False</td>\n",
       "      <td>False</td>\n",
       "    </tr>\n",
       "    <tr>\n",
       "      <th>193</th>\n",
       "      <td>False</td>\n",
       "      <td>False</td>\n",
       "      <td>False</td>\n",
       "      <td>False</td>\n",
       "      <td>False</td>\n",
       "      <td>False</td>\n",
       "      <td>False</td>\n",
       "      <td>False</td>\n",
       "      <td>False</td>\n",
       "      <td>False</td>\n",
       "      <td>False</td>\n",
       "      <td>False</td>\n",
       "      <td>False</td>\n",
       "      <td>False</td>\n",
       "    </tr>\n",
       "    <tr>\n",
       "      <th>194</th>\n",
       "      <td>False</td>\n",
       "      <td>False</td>\n",
       "      <td>False</td>\n",
       "      <td>False</td>\n",
       "      <td>False</td>\n",
       "      <td>False</td>\n",
       "      <td>False</td>\n",
       "      <td>False</td>\n",
       "      <td>False</td>\n",
       "      <td>False</td>\n",
       "      <td>False</td>\n",
       "      <td>False</td>\n",
       "      <td>False</td>\n",
       "      <td>False</td>\n",
       "    </tr>\n",
       "  </tbody>\n",
       "</table>\n",
       "<p>195 rows × 14 columns</p>\n",
       "</div>"
      ],
      "text/plain": [
       "     danceability  energy    key  loudness   mode  speechiness  acousticness  \\\n",
       "0           False   False  False     False  False        False         False   \n",
       "1           False   False  False     False  False        False         False   \n",
       "2           False   False  False     False  False        False         False   \n",
       "3           False   False  False     False  False        False         False   \n",
       "4           False   False  False     False  False        False         False   \n",
       "..            ...     ...    ...       ...    ...          ...           ...   \n",
       "190         False   False  False     False  False        False         False   \n",
       "191         False   False  False     False  False        False         False   \n",
       "192         False   False  False     False  False        False         False   \n",
       "193         False   False  False     False  False        False         False   \n",
       "194         False   False  False     False  False        False         False   \n",
       "\n",
       "     instrumentalness  liveness  valence  tempo  duration_ms  time_signature  \\\n",
       "0               False     False    False  False        False           False   \n",
       "1               False     False    False  False        False           False   \n",
       "2               False     False    False  False        False           False   \n",
       "3               False     False    False  False        False           False   \n",
       "4               False     False    False  False        False           False   \n",
       "..                ...       ...      ...    ...          ...             ...   \n",
       "190             False     False    False  False        False           False   \n",
       "191             False     False    False  False        False           False   \n",
       "192             False     False    False  False        False           False   \n",
       "193             False     False    False  False        False           False   \n",
       "194             False     False    False  False        False           False   \n",
       "\n",
       "     liked  \n",
       "0    False  \n",
       "1    False  \n",
       "2    False  \n",
       "3    False  \n",
       "4    False  \n",
       "..     ...  \n",
       "190  False  \n",
       "191  False  \n",
       "192  False  \n",
       "193  False  \n",
       "194  False  \n",
       "\n",
       "[195 rows x 14 columns]"
      ]
     },
     "execution_count": 8,
     "metadata": {},
     "output_type": "execute_result"
    }
   ],
   "source": [
    "spotify.isnull()"
   ]
  },
  {
   "cell_type": "code",
   "execution_count": 9,
   "metadata": {},
   "outputs": [
    {
     "data": {
      "text/plain": [
       "danceability        False\n",
       "energy              False\n",
       "key                 False\n",
       "loudness            False\n",
       "mode                False\n",
       "speechiness         False\n",
       "acousticness        False\n",
       "instrumentalness    False\n",
       "liveness            False\n",
       "valence             False\n",
       "tempo               False\n",
       "duration_ms         False\n",
       "time_signature      False\n",
       "liked               False\n",
       "dtype: bool"
      ]
     },
     "execution_count": 9,
     "metadata": {},
     "output_type": "execute_result"
    }
   ],
   "source": [
    "spotify.isnull().any()"
   ]
  },
  {
   "cell_type": "code",
   "execution_count": 10,
   "metadata": {},
   "outputs": [
    {
     "data": {
      "text/plain": [
       "danceability        0\n",
       "energy              0\n",
       "key                 0\n",
       "loudness            0\n",
       "mode                0\n",
       "speechiness         0\n",
       "acousticness        0\n",
       "instrumentalness    0\n",
       "liveness            0\n",
       "valence             0\n",
       "tempo               0\n",
       "duration_ms         0\n",
       "time_signature      0\n",
       "liked               0\n",
       "dtype: int64"
      ]
     },
     "execution_count": 10,
     "metadata": {},
     "output_type": "execute_result"
    }
   ],
   "source": [
    "spotify.isnull().sum()"
   ]
  },
  {
   "attachments": {},
   "cell_type": "markdown",
   "metadata": {},
   "source": [
    "Well it seem we don't have any null values! 😊"
   ]
  },
  {
   "attachments": {},
   "cell_type": "markdown",
   "metadata": {},
   "source": [
    "---"
   ]
  },
  {
   "attachments": {},
   "cell_type": "markdown",
   "metadata": {},
   "source": [
    "let's check if we've duplicates"
   ]
  },
  {
   "cell_type": "code",
   "execution_count": 11,
   "metadata": {},
   "outputs": [
    {
     "name": "stdout",
     "output_type": "stream",
     "text": [
      "Empty DataFrame\n",
      "Columns: [danceability, energy, key, loudness, mode, speechiness, acousticness, instrumentalness, liveness, valence, tempo, duration_ms, time_signature, liked]\n",
      "Index: []\n"
     ]
    }
   ],
   "source": [
    "print(spotify[spotify.duplicated()])"
   ]
  },
  {
   "cell_type": "code",
   "execution_count": 12,
   "metadata": {},
   "outputs": [
    {
     "data": {
      "text/plain": [
       "0"
      ]
     },
     "execution_count": 12,
     "metadata": {},
     "output_type": "execute_result"
    }
   ],
   "source": [
    "spotify.duplicated().sum()"
   ]
  },
  {
   "attachments": {},
   "cell_type": "markdown",
   "metadata": {},
   "source": [
    "well this seems to be an easy/boring dataset"
   ]
  },
  {
   "attachments": {},
   "cell_type": "markdown",
   "metadata": {},
   "source": [
    "---"
   ]
  },
  {
   "attachments": {},
   "cell_type": "markdown",
   "metadata": {},
   "source": [
    "Let's check for outliers"
   ]
  },
  {
   "cell_type": "code",
   "execution_count": 13,
   "metadata": {},
   "outputs": [
    {
     "data": {
      "image/png": "[encoded data removed]",
      "text/plain": [
       "<Figure size 640x480 with 1 Axes>"
      ]
     },
     "metadata": {},
     "output_type": "display_data"
    }
   ],
   "source": [
    "cols = ['acousticness', 'danceability', 'energy', 'instrumentalness', 'liveness', 'loudness', 'speechiness', 'tempo', 'valence']\n",
    "box = sns.boxplot(data=spotify[cols], palette=(\"Set2\"))\n",
    "plt.rcParams['figure.figsize']=(15,12)"
   ]
  },
  {
   "attachments": {},
   "cell_type": "markdown",
   "metadata": {},
   "source": [
    "> * Since we've no duplicated there's no need to drop any\n",
    "> \n",
    "> * Keep in mind that we also have no null values so we don't have to drop any\n",
    "> \n",
    "> * We also don't have any categorical \"string\" values so we don't need one hot   \n",
    "> encoding or label encoding\n",
    ">\n",
    "> * outliers aren't always removed one should understand first the feature some\n",
    "> non-continuous values in features shouldn't be removed it's not a mistake \n",
    "> like in this case some music are just louder than others"
   ]
  },
  {
   "attachments": {},
   "cell_type": "markdown",
   "metadata": {},
   "source": [
    "---"
   ]
  },
  {
   "attachments": {},
   "cell_type": "markdown",
   "metadata": {},
   "source": [
    "> ### Normalization\n",
    ">  ensures that all the features have equal weightage and the model does not give \n",
    "> more preference to any one feature. two popular normalization techniques are \n",
    "> MinMaxScaler and StandardScaler:\n",
    ">\n",
    "> * MinMaxScaler scales the data to a range between 0 and 1, where the minimum value \n",
    "> of the feature is mapped to 0, and the maximum value is mapped to 1. This scaling \n",
    "> technique is suitable for cases where the data distribution is uniform.\n",
    ">\n",
    "> * StandardScaler scales the data to have a mean of 0 and standard deviation of 1. \n",
    "> It is suitable for cases where the data distribution is Gaussian or close to \n",
    "> Gaussian. StandardScaler subtracts the mean of the feature and divides by its \n",
    "> standard deviation, thereby transforming the feature to have zero mean and unit \n",
    "> variance.\n",
    "> * we will apply minMax later\n"
   ]
  },
  {
   "cell_type": "code",
   "execution_count": 14,
   "metadata": {},
   "outputs": [
    {
     "data": {
      "text/html": [
       "<div>\n",
       "<style scoped>\n",
       "    .dataframe tbody tr th:only-of-type {\n",
       "        vertical-align: middle;\n",
       "    }\n",
       "\n",
       "    .dataframe tbody tr th {\n",
       "        vertical-align: top;\n",
       "    }\n",
       "\n",
       "    .dataframe thead th {\n",
       "        text-align: right;\n",
       "    }\n",
       "</style>\n",
       "<table border=\"1\" class=\"dataframe\">\n",
       "  <thead>\n",
       "    <tr style=\"text-align: right;\">\n",
       "      <th></th>\n",
       "      <th>danceability</th>\n",
       "      <th>energy</th>\n",
       "      <th>key</th>\n",
       "      <th>loudness</th>\n",
       "      <th>mode</th>\n",
       "      <th>speechiness</th>\n",
       "      <th>acousticness</th>\n",
       "      <th>instrumentalness</th>\n",
       "      <th>liveness</th>\n",
       "      <th>valence</th>\n",
       "      <th>tempo</th>\n",
       "      <th>duration_ms</th>\n",
       "      <th>time_signature</th>\n",
       "      <th>liked</th>\n",
       "    </tr>\n",
       "  </thead>\n",
       "  <tbody>\n",
       "    <tr>\n",
       "      <th>0</th>\n",
       "      <td>0.803</td>\n",
       "      <td>0.6240</td>\n",
       "      <td>7</td>\n",
       "      <td>-6.764</td>\n",
       "      <td>0</td>\n",
       "      <td>0.0477</td>\n",
       "      <td>0.4510</td>\n",
       "      <td>0.000734</td>\n",
       "      <td>0.1000</td>\n",
       "      <td>0.6280</td>\n",
       "      <td>95.968</td>\n",
       "      <td>304524</td>\n",
       "      <td>4</td>\n",
       "      <td>0</td>\n",
       "    </tr>\n",
       "    <tr>\n",
       "      <th>1</th>\n",
       "      <td>0.762</td>\n",
       "      <td>0.7030</td>\n",
       "      <td>10</td>\n",
       "      <td>-7.951</td>\n",
       "      <td>0</td>\n",
       "      <td>0.3060</td>\n",
       "      <td>0.2060</td>\n",
       "      <td>0.000000</td>\n",
       "      <td>0.0912</td>\n",
       "      <td>0.5190</td>\n",
       "      <td>151.329</td>\n",
       "      <td>247178</td>\n",
       "      <td>4</td>\n",
       "      <td>1</td>\n",
       "    </tr>\n",
       "    <tr>\n",
       "      <th>2</th>\n",
       "      <td>0.261</td>\n",
       "      <td>0.0149</td>\n",
       "      <td>1</td>\n",
       "      <td>-27.528</td>\n",
       "      <td>1</td>\n",
       "      <td>0.0419</td>\n",
       "      <td>0.9920</td>\n",
       "      <td>0.897000</td>\n",
       "      <td>0.1020</td>\n",
       "      <td>0.0382</td>\n",
       "      <td>75.296</td>\n",
       "      <td>286987</td>\n",
       "      <td>4</td>\n",
       "      <td>0</td>\n",
       "    </tr>\n",
       "    <tr>\n",
       "      <th>3</th>\n",
       "      <td>0.722</td>\n",
       "      <td>0.7360</td>\n",
       "      <td>3</td>\n",
       "      <td>-6.994</td>\n",
       "      <td>0</td>\n",
       "      <td>0.0585</td>\n",
       "      <td>0.4310</td>\n",
       "      <td>0.000001</td>\n",
       "      <td>0.1230</td>\n",
       "      <td>0.5820</td>\n",
       "      <td>89.860</td>\n",
       "      <td>208920</td>\n",
       "      <td>4</td>\n",
       "      <td>1</td>\n",
       "    </tr>\n",
       "    <tr>\n",
       "      <th>4</th>\n",
       "      <td>0.787</td>\n",
       "      <td>0.5720</td>\n",
       "      <td>1</td>\n",
       "      <td>-7.516</td>\n",
       "      <td>1</td>\n",
       "      <td>0.2220</td>\n",
       "      <td>0.1450</td>\n",
       "      <td>0.000000</td>\n",
       "      <td>0.0753</td>\n",
       "      <td>0.6470</td>\n",
       "      <td>155.117</td>\n",
       "      <td>179413</td>\n",
       "      <td>4</td>\n",
       "      <td>1</td>\n",
       "    </tr>\n",
       "    <tr>\n",
       "      <th>5</th>\n",
       "      <td>0.778</td>\n",
       "      <td>0.6320</td>\n",
       "      <td>8</td>\n",
       "      <td>-6.415</td>\n",
       "      <td>1</td>\n",
       "      <td>0.1250</td>\n",
       "      <td>0.0404</td>\n",
       "      <td>0.000000</td>\n",
       "      <td>0.0912</td>\n",
       "      <td>0.8270</td>\n",
       "      <td>140.951</td>\n",
       "      <td>224029</td>\n",
       "      <td>4</td>\n",
       "      <td>1</td>\n",
       "    </tr>\n",
       "    <tr>\n",
       "      <th>6</th>\n",
       "      <td>0.666</td>\n",
       "      <td>0.5890</td>\n",
       "      <td>0</td>\n",
       "      <td>-8.405</td>\n",
       "      <td>0</td>\n",
       "      <td>0.3240</td>\n",
       "      <td>0.5550</td>\n",
       "      <td>0.000000</td>\n",
       "      <td>0.1140</td>\n",
       "      <td>0.7760</td>\n",
       "      <td>74.974</td>\n",
       "      <td>146053</td>\n",
       "      <td>4</td>\n",
       "      <td>1</td>\n",
       "    </tr>\n",
       "    <tr>\n",
       "      <th>7</th>\n",
       "      <td>0.922</td>\n",
       "      <td>0.7120</td>\n",
       "      <td>7</td>\n",
       "      <td>-6.024</td>\n",
       "      <td>1</td>\n",
       "      <td>0.1710</td>\n",
       "      <td>0.0779</td>\n",
       "      <td>0.000040</td>\n",
       "      <td>0.1750</td>\n",
       "      <td>0.9040</td>\n",
       "      <td>104.964</td>\n",
       "      <td>161800</td>\n",
       "      <td>4</td>\n",
       "      <td>1</td>\n",
       "    </tr>\n",
       "    <tr>\n",
       "      <th>8</th>\n",
       "      <td>0.794</td>\n",
       "      <td>0.6590</td>\n",
       "      <td>7</td>\n",
       "      <td>-7.063</td>\n",
       "      <td>0</td>\n",
       "      <td>0.0498</td>\n",
       "      <td>0.1430</td>\n",
       "      <td>0.002240</td>\n",
       "      <td>0.0944</td>\n",
       "      <td>0.3080</td>\n",
       "      <td>112.019</td>\n",
       "      <td>247460</td>\n",
       "      <td>4</td>\n",
       "      <td>0</td>\n",
       "    </tr>\n",
       "    <tr>\n",
       "      <th>9</th>\n",
       "      <td>0.853</td>\n",
       "      <td>0.6680</td>\n",
       "      <td>3</td>\n",
       "      <td>-6.995</td>\n",
       "      <td>1</td>\n",
       "      <td>0.4470</td>\n",
       "      <td>0.2630</td>\n",
       "      <td>0.000000</td>\n",
       "      <td>0.1040</td>\n",
       "      <td>0.7450</td>\n",
       "      <td>157.995</td>\n",
       "      <td>165363</td>\n",
       "      <td>4</td>\n",
       "      <td>1</td>\n",
       "    </tr>\n",
       "  </tbody>\n",
       "</table>\n",
       "</div>"
      ],
      "text/plain": [
       "   danceability  energy  key  loudness  mode  speechiness  acousticness  \\\n",
       "0         0.803  0.6240    7    -6.764     0       0.0477        0.4510   \n",
       "1         0.762  0.7030   10    -7.951     0       0.3060        0.2060   \n",
       "2         0.261  0.0149    1   -27.528     1       0.0419        0.9920   \n",
       "3         0.722  0.7360    3    -6.994     0       0.0585        0.4310   \n",
       "4         0.787  0.5720    1    -7.516     1       0.2220        0.1450   \n",
       "5         0.778  0.6320    8    -6.415     1       0.1250        0.0404   \n",
       "6         0.666  0.5890    0    -8.405     0       0.3240        0.5550   \n",
       "7         0.922  0.7120    7    -6.024     1       0.1710        0.0779   \n",
       "8         0.794  0.6590    7    -7.063     0       0.0498        0.1430   \n",
       "9         0.853  0.6680    3    -6.995     1       0.4470        0.2630   \n",
       "\n",
       "   instrumentalness  liveness  valence    tempo  duration_ms  time_signature  \\\n",
       "0          0.000734    0.1000   0.6280   95.968       304524               4   \n",
       "1          0.000000    0.0912   0.5190  151.329       247178               4   \n",
       "2          0.897000    0.1020   0.0382   75.296       286987               4   \n",
       "3          0.000001    0.1230   0.5820   89.860       208920               4   \n",
       "4          0.000000    0.0753   0.6470  155.117       179413               4   \n",
       "5          0.000000    0.0912   0.8270  140.951       224029               4   \n",
       "6          0.000000    0.1140   0.7760   74.974       146053               4   \n",
       "7          0.000040    0.1750   0.9040  104.964       161800               4   \n",
       "8          0.002240    0.0944   0.3080  112.019       247460               4   \n",
       "9          0.000000    0.1040   0.7450  157.995       165363               4   \n",
       "\n",
       "   liked  \n",
       "0      0  \n",
       "1      1  \n",
       "2      0  \n",
       "3      1  \n",
       "4      1  \n",
       "5      1  \n",
       "6      1  \n",
       "7      1  \n",
       "8      0  \n",
       "9      1  "
      ]
     },
     "execution_count": 14,
     "metadata": {},
     "output_type": "execute_result"
    }
   ],
   "source": [
    "spotify.head(10)"
   ]
  },
  {
   "cell_type": "code",
   "execution_count": 15,
   "metadata": {},
   "outputs": [
    {
     "data": {
      "image/png": "[encoded data removed]",
      "text/plain": [
       "<Figure size 1500x1200 with 1 Axes>"
      ]
     },
     "metadata": {},
     "output_type": "display_data"
    }
   ],
   "source": [
    "box = sns.boxplot(data=spotify[cols], palette=(\"Set2\"))\n",
    "plt.rcParams['figure.figsize']=(15,10)"
   ]
  },
  {
   "attachments": {},
   "cell_type": "markdown",
   "metadata": {},
   "source": [
    "<a id=300></a>\n",
    "<h4 style= 'Background:deeppink; color:white; border:0'><center>Q1-C Visualization 📊</center></h3>"
   ]
  },
  {
   "cell_type": "code",
   "execution_count": 16,
   "metadata": {},
   "outputs": [
    {
     "data": {
      "image/png": "[encoded data removed]",
      "text/plain": [
       "<Figure size 1500x1000 with 1 Axes>"
      ]
     },
     "metadata": {},
     "output_type": "display_data"
    }
   ],
   "source": [
    "# Create a scatter plot of danceability vs. energy\n",
    "plt.scatter(spotify['danceability'], spotify['energy'], color='#3CAEA3')\n",
    "\n",
    "# Add labels and title\n",
    "plt.xlabel('Danceability')\n",
    "plt.ylabel('Energy')\n",
    "plt.title('Relationship between Danceability and Energy')\n",
    "plt.rcParams[\"figure.figsize\"] = (20,3)\n",
    "# Display the chart\n",
    "plt.show()\n"
   ]
  },
  {
   "attachments": {},
   "cell_type": "markdown",
   "metadata": {},
   "source": [
    "the closer to x=y the higher the relation, we can see that it's pretty scattered\n",
    "but the majority is still higher danceability to higher energy. more linear correlation"
   ]
  },
  {
   "cell_type": "code",
   "execution_count": 17,
   "metadata": {},
   "outputs": [
    {
     "data": {
      "text/plain": [
       "Index(['danceability', 'energy', 'key', 'loudness', 'mode', 'speechiness',\n",
       "       'acousticness', 'instrumentalness', 'liveness', 'valence', 'tempo',\n",
       "       'duration_ms', 'time_signature', 'liked'],\n",
       "      dtype='object')"
      ]
     },
     "execution_count": 17,
     "metadata": {},
     "output_type": "execute_result"
    }
   ],
   "source": [
    "spotify.columns"
   ]
  },
  {
   "cell_type": "code",
   "execution_count": 18,
   "metadata": {},
   "outputs": [
    {
     "data": {
      "image/png": "[encoded data removed]",
      "text/plain": [
       "<Figure size 2000x300 with 1 Axes>"
      ]
     },
     "metadata": {},
     "output_type": "display_data"
    }
   ],
   "source": [
    "liked_counts = spotify['liked'].value_counts()\n",
    "plt.pie(liked_counts, labels=['Not Liked', 'Liked'], explode=(0, 0.1), autopct='%1.1f%%', colors=['cyan','crimson'])\n",
    "plt.title('Percentage of Liked Songs')\n",
    "plt.rcParams[\"figure.figsize\"] = (8,6)\n",
    "plt.legend()\n",
    "plt.show()"
   ]
  },
  {
   "attachments": {},
   "cell_type": "markdown",
   "metadata": {},
   "source": [
    "* there's more unliked songs in the dataset 51.3%\n",
    "* less liked songs 48.7% \n",
    "* I guess the majority of people don't fancy metal that much"
   ]
  },
  {
   "cell_type": "code",
   "execution_count": 19,
   "metadata": {},
   "outputs": [
    {
     "data": {
      "application/vnd.plotly.v1+json": {
       "config": {
        "plotlyServerURL": "https://plot.ly"
       },
       "data": [
        {
         "domain": {
          "x": [
           0,
           0.45
          ],
          "y": [
           0,
           1
          ]
         },
         "hole": 0.4,
         "hoverinfo": "label+percent",
         "labels": [
          "Liked",
          "Not Liked"
         ],
         "name": "Percentage of liked songs",
         "type": "pie",
         "values": [
          295,
          290
         ]
        },
        {
         "domain": {
          "x": [
           0.55,
           1
          ],
          "y": [
           0,
           1
          ]
         },
         "hole": 0.4,
         "hoverinfo": "label+percent",
         "labels": [
          "Liked-loud",
          "liked-not loud",
          "unliked-loud",
          "unlike-not loud"
         ],
         "name": "Loudness and liked relation",
         "type": "pie",
         "values": [
          100,
          95,
          195,
          195
         ]
        }
       ],
       "layout": {
        "annotations": [
         {
          "font": {
           "size": 8
          },
          "showarrow": false,
          "text": "Liked songs",
          "x": 0.2,
          "y": 0.5
         },
         {
          "font": {
           "size": 8
          },
          "showarrow": false,
          "text": "liked vs loud",
          "x": 0.81,
          "y": 0.5
         }
        ],
        "autosize": false,
        "height": 500,
        "paper_bgcolor": "white",
        "template": {
         "data": {
          "bar": [
           {
            "error_x": {
             "color": "#2a3f5f"
            },
            "error_y": {
             "color": "#2a3f5f"
            },
            "marker": {
             "line": {
              "color": "#E5ECF6",
              "width": 0.5
             },
             "pattern": {
              "fillmode": "overlay",
              "size": 10,
              "solidity": 0.2
             }
            },
            "type": "bar"
           }
          ],
          "barpolar": [
           {
            "marker": {
             "line": {
              "color": "#E5ECF6",
              "width": 0.5
             },
             "pattern": {
              "fillmode": "overlay",
              "size": 10,
              "solidity": 0.2
             }
            },
            "type": "barpolar"
           }
          ],
          "carpet": [
           {
            "aaxis": {
             "endlinecolor": "#2a3f5f",
             "gridcolor": "white",
             "linecolor": "white",
             "minorgridcolor": "white",
             "startlinecolor": "#2a3f5f"
            },
            "baxis": {
             "endlinecolor": "#2a3f5f",
             "gridcolor": "white",
             "linecolor": "white",
             "minorgridcolor": "white",
             "startlinecolor": "#2a3f5f"
            },
            "type": "carpet"
           }
          ],
          "choropleth": [
           {
            "colorbar": {
             "outlinewidth": 0,
             "ticks": ""
            },
            "type": "choropleth"
           }
          ],
          "contour": [
           {
            "colorbar": {
             "outlinewidth": 0,
             "ticks": ""
            },
            "colorscale": [
             [
              0,
              "#0d0887"
             ],
             [
              0.1111111111111111,
              "#46039f"
             ],
             [
              0.2222222222222222,
              "#7201a8"
             ],
             [
              0.3333333333333333,
              "#9c179e"
             ],
             [
              0.4444444444444444,
              "#bd3786"
             ],
             [
              0.5555555555555556,
              "#d8576b"
             ],
             [
              0.6666666666666666,
              "#ed7953"
             ],
             [
              0.7777777777777778,
              "#fb9f3a"
             ],
             [
              0.8888888888888888,
              "#fdca26"
             ],
             [
              1,
              "#f0f921"
             ]
            ],
            "type": "contour"
           }
          ],
          "contourcarpet": [
           {
            "colorbar": {
             "outlinewidth": 0,
             "ticks": ""
            },
            "type": "contourcarpet"
           }
          ],
          "heatmap": [
           {
            "colorbar": {
             "outlinewidth": 0,
             "ticks": ""
            },
            "colorscale": [
             [
              0,
              "#0d0887"
             ],
             [
              0.1111111111111111,
              "#46039f"
             ],
             [
              0.2222222222222222,
              "#7201a8"
             ],
             [
              0.3333333333333333,
              "#9c179e"
             ],
             [
              0.4444444444444444,
              "#bd3786"
             ],
             [
              0.5555555555555556,
              "#d8576b"
             ],
             [
              0.6666666666666666,
              "#ed7953"
             ],
             [
              0.7777777777777778,
              "#fb9f3a"
             ],
             [
              0.8888888888888888,
              "#fdca26"
             ],
             [
              1,
              "#f0f921"
             ]
            ],
            "type": "heatmap"
           }
          ],
          "heatmapgl": [
           {
            "colorbar": {
             "outlinewidth": 0,
             "ticks": ""
            },
            "colorscale": [
             [
              0,
              "#0d0887"
             ],
             [
              0.1111111111111111,
              "#46039f"
             ],
             [
              0.2222222222222222,
              "#7201a8"
             ],
             [
              0.3333333333333333,
              "#9c179e"
             ],
             [
              0.4444444444444444,
              "#bd3786"
             ],
             [
              0.5555555555555556,
              "#d8576b"
             ],
             [
              0.6666666666666666,
              "#ed7953"
             ],
             [
              0.7777777777777778,
              "#fb9f3a"
             ],
             [
              0.8888888888888888,
              "#fdca26"
             ],
             [
              1,
              "#f0f921"
             ]
            ],
            "type": "heatmapgl"
           }
          ],
          "histogram": [
           {
            "marker": {
             "pattern": {
              "fillmode": "overlay",
              "size": 10,
              "solidity": 0.2
             }
            },
            "type": "histogram"
           }
          ],
          "histogram2d": [
           {
            "colorbar": {
             "outlinewidth": 0,
             "ticks": ""
            },
            "colorscale": [
             [
              0,
              "#0d0887"
             ],
             [
              0.1111111111111111,
              "#46039f"
             ],
             [
              0.2222222222222222,
              "#7201a8"
             ],
             [
              0.3333333333333333,
              "#9c179e"
             ],
             [
              0.4444444444444444,
              "#bd3786"
             ],
             [
              0.5555555555555556,
              "#d8576b"
             ],
             [
              0.6666666666666666,
              "#ed7953"
             ],
             [
              0.7777777777777778,
              "#fb9f3a"
             ],
             [
              0.8888888888888888,
              "#fdca26"
             ],
             [
              1,
              "#f0f921"
             ]
            ],
            "type": "histogram2d"
           }
          ],
          "histogram2dcontour": [
           {
            "colorbar": {
             "outlinewidth": 0,
             "ticks": ""
            },
            "colorscale": [
             [
              0,
              "#0d0887"
             ],
             [
              0.1111111111111111,
              "#46039f"
             ],
             [
              0.2222222222222222,
              "#7201a8"
             ],
             [
              0.3333333333333333,
              "#9c179e"
             ],
             [
              0.4444444444444444,
              "#bd3786"
             ],
             [
              0.5555555555555556,
              "#d8576b"
             ],
             [
              0.6666666666666666,
              "#ed7953"
             ],
             [
              0.7777777777777778,
              "#fb9f3a"
             ],
             [
              0.8888888888888888,
              "#fdca26"
             ],
             [
              1,
              "#f0f921"
             ]
            ],
            "type": "histogram2dcontour"
           }
          ],
          "mesh3d": [
           {
            "colorbar": {
             "outlinewidth": 0,
             "ticks": ""
            },
            "type": "mesh3d"
           }
          ],
          "parcoords": [
           {
            "line": {
             "colorbar": {
              "outlinewidth": 0,
              "ticks": ""
             }
            },
            "type": "parcoords"
           }
          ],
          "pie": [
           {
            "automargin": true,
            "type": "pie"
           }
          ],
          "scatter": [
           {
            "fillpattern": {
             "fillmode": "overlay",
             "size": 10,
             "solidity": 0.2
            },
            "type": "scatter"
           }
          ],
          "scatter3d": [
           {
            "line": {
             "colorbar": {
              "outlinewidth": 0,
              "ticks": ""
             }
            },
            "marker": {
             "colorbar": {
              "outlinewidth": 0,
              "ticks": ""
             }
            },
            "type": "scatter3d"
           }
          ],
          "scattercarpet": [
           {
            "marker": {
             "colorbar": {
              "outlinewidth": 0,
              "ticks": ""
             }
            },
            "type": "scattercarpet"
           }
          ],
          "scattergeo": [
           {
            "marker": {
             "colorbar": {
              "outlinewidth": 0,
              "ticks": ""
             }
            },
            "type": "scattergeo"
           }
          ],
          "scattergl": [
           {
            "marker": {
             "colorbar": {
              "outlinewidth": 0,
              "ticks": ""
             }
            },
            "type": "scattergl"
           }
          ],
          "scattermapbox": [
           {
            "marker": {
             "colorbar": {
              "outlinewidth": 0,
              "ticks": ""
             }
            },
            "type": "scattermapbox"
           }
          ],
          "scatterpolar": [
           {
            "marker": {
             "colorbar": {
              "outlinewidth": 0,
              "ticks": ""
             }
            },
            "type": "scatterpolar"
           }
          ],
          "scatterpolargl": [
           {
            "marker": {
             "colorbar": {
              "outlinewidth": 0,
              "ticks": ""
             }
            },
            "type": "scatterpolargl"
           }
          ],
          "scatterternary": [
           {
            "marker": {
             "colorbar": {
              "outlinewidth": 0,
              "ticks": ""
             }
            },
            "type": "scatterternary"
           }
          ],
          "surface": [
           {
            "colorbar": {
             "outlinewidth": 0,
             "ticks": ""
            },
            "colorscale": [
             [
              0,
              "#0d0887"
             ],
             [
              0.1111111111111111,
              "#46039f"
             ],
             [
              0.2222222222222222,
              "#7201a8"
             ],
             [
              0.3333333333333333,
              "#9c179e"
             ],
             [
              0.4444444444444444,
              "#bd3786"
             ],
             [
              0.5555555555555556,
              "#d8576b"
             ],
             [
              0.6666666666666666,
              "#ed7953"
             ],
             [
              0.7777777777777778,
              "#fb9f3a"
             ],
             [
              0.8888888888888888,
              "#fdca26"
             ],
             [
              1,
              "#f0f921"
             ]
            ],
            "type": "surface"
           }
          ],
          "table": [
           {
            "cells": {
             "fill": {
              "color": "#EBF0F8"
             },
             "line": {
              "color": "white"
             }
            },
            "header": {
             "fill": {
              "color": "#C8D4E3"
             },
             "line": {
              "color": "white"
             }
            },
            "type": "table"
           }
          ]
         },
         "layout": {
          "annotationdefaults": {
           "arrowcolor": "#2a3f5f",
           "arrowhead": 0,
           "arrowwidth": 1
          },
          "autotypenumbers": "strict",
          "coloraxis": {
           "colorbar": {
            "outlinewidth": 0,
            "ticks": ""
           }
          },
          "colorscale": {
           "diverging": [
            [
             0,
             "#8e0152"
            ],
            [
             0.1,
             "#c51b7d"
            ],
            [
             0.2,
             "#de77ae"
            ],
            [
             0.3,
             "#f1b6da"
            ],
            [
             0.4,
             "#fde0ef"
            ],
            [
             0.5,
             "#f7f7f7"
            ],
            [
             0.6,
             "#e6f5d0"
            ],
            [
             0.7,
             "#b8e186"
            ],
            [
             0.8,
             "#7fbc41"
            ],
            [
             0.9,
             "#4d9221"
            ],
            [
             1,
             "#276419"
            ]
           ],
           "sequential": [
            [
             0,
             "#0d0887"
            ],
            [
             0.1111111111111111,
             "#46039f"
            ],
            [
             0.2222222222222222,
             "#7201a8"
            ],
            [
             0.3333333333333333,
             "#9c179e"
            ],
            [
             0.4444444444444444,
             "#bd3786"
            ],
            [
             0.5555555555555556,
             "#d8576b"
            ],
            [
             0.6666666666666666,
             "#ed7953"
            ],
            [
             0.7777777777777778,
             "#fb9f3a"
            ],
            [
             0.8888888888888888,
             "#fdca26"
            ],
            [
             1,
             "#f0f921"
            ]
           ],
           "sequentialminus": [
            [
             0,
             "#0d0887"
            ],
            [
             0.1111111111111111,
             "#46039f"
            ],
            [
             0.2222222222222222,
             "#7201a8"
            ],
            [
             0.3333333333333333,
             "#9c179e"
            ],
            [
             0.4444444444444444,
             "#bd3786"
            ],
            [
             0.5555555555555556,
             "#d8576b"
            ],
            [
             0.6666666666666666,
             "#ed7953"
            ],
            [
             0.7777777777777778,
             "#fb9f3a"
            ],
            [
             0.8888888888888888,
             "#fdca26"
            ],
            [
             1,
             "#f0f921"
            ]
           ]
          },
          "colorway": [
           "#636efa",
           "#EF553B",
           "#00cc96",
           "#ab63fa",
           "#FFA15A",
           "#19d3f3",
           "#FF6692",
           "#B6E880",
           "#FF97FF",
           "#FECB52"
          ],
          "font": {
           "color": "#2a3f5f"
          },
          "geo": {
           "bgcolor": "white",
           "lakecolor": "white",
           "landcolor": "#E5ECF6",
           "showlakes": true,
           "showland": true,
           "subunitcolor": "white"
          },
          "hoverlabel": {
           "align": "left"
          },
          "hovermode": "closest",
          "mapbox": {
           "style": "light"
          },
          "paper_bgcolor": "white",
          "plot_bgcolor": "#E5ECF6",
          "polar": {
           "angularaxis": {
            "gridcolor": "white",
            "linecolor": "white",
            "ticks": ""
           },
           "bgcolor": "#E5ECF6",
           "radialaxis": {
            "gridcolor": "white",
            "linecolor": "white",
            "ticks": ""
           }
          },
          "scene": {
           "xaxis": {
            "backgroundcolor": "#E5ECF6",
            "gridcolor": "white",
            "gridwidth": 2,
            "linecolor": "white",
            "showbackground": true,
            "ticks": "",
            "zerolinecolor": "white"
           },
           "yaxis": {
            "backgroundcolor": "#E5ECF6",
            "gridcolor": "white",
            "gridwidth": 2,
            "linecolor": "white",
            "showbackground": true,
            "ticks": "",
            "zerolinecolor": "white"
           },
           "zaxis": {
            "backgroundcolor": "#E5ECF6",
            "gridcolor": "white",
            "gridwidth": 2,
            "linecolor": "white",
            "showbackground": true,
            "ticks": "",
            "zerolinecolor": "white"
           }
          },
          "shapedefaults": {
           "line": {
            "color": "#2a3f5f"
           }
          },
          "ternary": {
           "aaxis": {
            "gridcolor": "white",
            "linecolor": "white",
            "ticks": ""
           },
           "baxis": {
            "gridcolor": "white",
            "linecolor": "white",
            "ticks": ""
           },
           "bgcolor": "#E5ECF6",
           "caxis": {
            "gridcolor": "white",
            "linecolor": "white",
            "ticks": ""
           }
          },
          "title": {
           "x": 0.05
          },
          "xaxis": {
           "automargin": true,
           "gridcolor": "white",
           "linecolor": "white",
           "ticks": "",
           "title": {
            "standoff": 15
           },
           "zerolinecolor": "white",
           "zerolinewidth": 2
          },
          "yaxis": {
           "automargin": true,
           "gridcolor": "white",
           "linecolor": "white",
           "ticks": "",
           "title": {
            "standoff": 15
           },
           "zerolinecolor": "white",
           "zerolinewidth": 2
          }
         }
        },
        "title": {
         "text": "liked songs ditribution                                             Loudness and liked relation"
        },
        "width": 1200
       }
      }
     },
     "metadata": {},
     "output_type": "display_data"
    }
   ],
   "source": [
    "# get the values, liked songs are 1 filter it based on that\n",
    "# loud songs are above 0.5 filtered based on that\n",
    "liked_loud = spotify[ (spotify['liked']==1) + (spotify['loudness']>0.5)]\n",
    "not_liked_loud = spotify[ (spotify['liked']==0) +(spotify['loudness']>0.5)]\n",
    "like_not_loud = spotify[ (spotify['liked']==1) +(spotify['loudness']<0.5)]\n",
    "not_liked_not_loud = spotify[ (spotify['liked']==1) + (spotify['loudness']<0.5)]\n",
    "\n",
    "#prepare the the values for visualization\n",
    "values1 = [len(liked_loud)+len(like_not_loud), len(not_liked_loud)+len(not_liked_not_loud)]\n",
    "values2 = [len(liked_loud), len(not_liked_loud), len(like_not_loud), len(not_liked_not_loud)]\n",
    "\n",
    "# Create subplots: use 'domain' type for Pie subplot\n",
    "fig = make_subplots(rows=1, cols=2, specs=[[{'type':'domain'}, {'type':'domain'}]])\n",
    "fig.add_trace(go.Pie(labels=['Liked', 'Not Liked'], values=values1, name=\"Percentage of liked songs\"),\n",
    "              1, 1)\n",
    "fig.add_trace(go.Pie(labels=['Liked-loud','liked-not loud', 'unliked-loud', 'unlike-not loud'], values=values2, name=\"Loudness and liked relation\"),\n",
    "              1, 2)\n",
    "\n",
    "# Use `hole` to create a donut-like pie chart\n",
    "fig.update_traces(hole=.4, hoverinfo=\"label+percent\")\n",
    "\n",
    "fig.update_layout(\n",
    "    title_text=f\"liked songs ditribution {' '*28}\\\n",
    "                Loudness and liked relation\",\n",
    "    # Add annotations in the center of the donut pies.\n",
    "    annotations=[dict(text='Liked songs', x=0.20, y=0.5, font_size=8, showarrow=False),\n",
    "                 dict(text='liked vs loud', x=0.81, y=0.5, font_size=8, showarrow=False)],\n",
    "    autosize=False,width=1200, height=500, paper_bgcolor=\"white\")\n",
    "fig.show()"
   ]
  },
  {
   "attachments": {},
   "cell_type": "markdown",
   "metadata": {},
   "source": [
    "- more unliked songs based on loudness: 51.1%\n",
    "- less liked songs based on loudness: 48.9%\n",
    "- Surprisingly the more quiet songs are more liked, maybe it's the soft metal\n",
    "- the unliked songs are pretty even for both loud and quiet songs at: 18.7%"
   ]
  },
  {
   "cell_type": "code",
   "execution_count": 20,
   "metadata": {},
   "outputs": [
    {
     "data": {
      "text/html": [
       "<div>\n",
       "<style scoped>\n",
       "    .dataframe tbody tr th:only-of-type {\n",
       "        vertical-align: middle;\n",
       "    }\n",
       "\n",
       "    .dataframe tbody tr th {\n",
       "        vertical-align: top;\n",
       "    }\n",
       "\n",
       "    .dataframe thead th {\n",
       "        text-align: right;\n",
       "    }\n",
       "</style>\n",
       "<table border=\"1\" class=\"dataframe\">\n",
       "  <thead>\n",
       "    <tr style=\"text-align: right;\">\n",
       "      <th></th>\n",
       "      <th>danceability</th>\n",
       "      <th>energy</th>\n",
       "      <th>key</th>\n",
       "      <th>loudness</th>\n",
       "      <th>mode</th>\n",
       "      <th>speechiness</th>\n",
       "      <th>acousticness</th>\n",
       "      <th>instrumentalness</th>\n",
       "      <th>liveness</th>\n",
       "      <th>valence</th>\n",
       "      <th>tempo</th>\n",
       "      <th>duration_ms</th>\n",
       "      <th>time_signature</th>\n",
       "      <th>liked</th>\n",
       "    </tr>\n",
       "  </thead>\n",
       "  <tbody>\n",
       "    <tr>\n",
       "      <th>0</th>\n",
       "      <td>0.803</td>\n",
       "      <td>0.6240</td>\n",
       "      <td>7</td>\n",
       "      <td>-6.764</td>\n",
       "      <td>0</td>\n",
       "      <td>0.0477</td>\n",
       "      <td>0.451</td>\n",
       "      <td>0.000734</td>\n",
       "      <td>0.1000</td>\n",
       "      <td>0.6280</td>\n",
       "      <td>95.968</td>\n",
       "      <td>304524</td>\n",
       "      <td>4</td>\n",
       "      <td>0</td>\n",
       "    </tr>\n",
       "    <tr>\n",
       "      <th>1</th>\n",
       "      <td>0.762</td>\n",
       "      <td>0.7030</td>\n",
       "      <td>10</td>\n",
       "      <td>-7.951</td>\n",
       "      <td>0</td>\n",
       "      <td>0.3060</td>\n",
       "      <td>0.206</td>\n",
       "      <td>0.000000</td>\n",
       "      <td>0.0912</td>\n",
       "      <td>0.5190</td>\n",
       "      <td>151.329</td>\n",
       "      <td>247178</td>\n",
       "      <td>4</td>\n",
       "      <td>1</td>\n",
       "    </tr>\n",
       "    <tr>\n",
       "      <th>2</th>\n",
       "      <td>0.261</td>\n",
       "      <td>0.0149</td>\n",
       "      <td>1</td>\n",
       "      <td>-27.528</td>\n",
       "      <td>1</td>\n",
       "      <td>0.0419</td>\n",
       "      <td>0.992</td>\n",
       "      <td>0.897000</td>\n",
       "      <td>0.1020</td>\n",
       "      <td>0.0382</td>\n",
       "      <td>75.296</td>\n",
       "      <td>286987</td>\n",
       "      <td>4</td>\n",
       "      <td>0</td>\n",
       "    </tr>\n",
       "  </tbody>\n",
       "</table>\n",
       "</div>"
      ],
      "text/plain": [
       "   danceability  energy  key  loudness  mode  speechiness  acousticness  \\\n",
       "0         0.803  0.6240    7    -6.764     0       0.0477         0.451   \n",
       "1         0.762  0.7030   10    -7.951     0       0.3060         0.206   \n",
       "2         0.261  0.0149    1   -27.528     1       0.0419         0.992   \n",
       "\n",
       "   instrumentalness  liveness  valence    tempo  duration_ms  time_signature  \\\n",
       "0          0.000734    0.1000   0.6280   95.968       304524               4   \n",
       "1          0.000000    0.0912   0.5190  151.329       247178               4   \n",
       "2          0.897000    0.1020   0.0382   75.296       286987               4   \n",
       "\n",
       "   liked  \n",
       "0      0  \n",
       "1      1  \n",
       "2      0  "
      ]
     },
     "execution_count": 20,
     "metadata": {},
     "output_type": "execute_result"
    }
   ],
   "source": [
    "spotify.head(3)"
   ]
  },
  {
   "cell_type": "code",
   "execution_count": 21,
   "metadata": {},
   "outputs": [
    {
     "data": {
      "text/plain": [
       "Index(['danceability', 'energy', 'key', 'loudness', 'mode', 'speechiness',\n",
       "       'acousticness', 'instrumentalness', 'liveness', 'valence', 'tempo',\n",
       "       'duration_ms', 'time_signature', 'liked'],\n",
       "      dtype='object')"
      ]
     },
     "execution_count": 21,
     "metadata": {},
     "output_type": "execute_result"
    }
   ],
   "source": [
    "spotify.columns"
   ]
  },
  {
   "cell_type": "code",
   "execution_count": 22,
   "metadata": {},
   "outputs": [
    {
     "data": {
      "application/vnd.plotly.v1+json": {
       "config": {
        "plotlyServerURL": "https://plot.ly"
       },
       "data": [
        {
         "alignmentgroup": "True",
         "box": {
          "visible": true
         },
         "customdata": [
          [
           0.624,
           7,
           -6.764,
           0,
           0.0477,
           0.451,
           0.000734,
           0.1,
           0.628,
           95.968,
           304524,
           4
          ],
          [
           0.703,
           10,
           -7.951,
           0,
           0.306,
           0.206,
           0,
           0.0912,
           0.519,
           151.329,
           247178,
           4
          ],
          [
           0.736,
           3,
           -6.994,
           0,
           0.0585,
           0.431,
           0.00000118,
           0.123,
           0.582,
           89.86,
           208920,
           4
          ],
          [
           0.589,
           0,
           -8.405,
           0,
           0.324,
           0.555,
           0,
           0.114,
           0.776,
           74.974,
           146053,
           4
          ],
          [
           0.659,
           7,
           -7.063,
           0,
           0.0498,
           0.143,
           0.00224,
           0.0944,
           0.308,
           112.019,
           247460,
           4
          ],
          [
           0.64,
           5,
           -9.906,
           0,
           0.0309,
           0.221,
           0.0102,
           0.179,
           0.777,
           106.023,
           234267,
           4
          ],
          [
           0.0825,
           9,
           -21.686,
           0,
           0.0695,
           0.983,
           0.0749,
           0.0461,
           0.37,
           106.275,
           270000,
           5
          ],
          [
           0.549,
           5,
           -8.6,
           0,
           0.0631,
           0.268,
           0.00496,
           0.0984,
           0.498,
           138.984,
           184627,
           4
          ],
          [
           0.533,
           9,
           -10.104,
           0,
           0.444,
           0.747,
           0.00000454,
           0.0848,
           0.422,
           155.999,
           225953,
           4
          ],
          [
           0.545,
           4,
           -7.712,
           0,
           0.0514,
           0.271,
           0.00000734,
           0.102,
           0.113,
           76.503,
           240924,
           4
          ],
          [
           0.574,
           5,
           -8.546,
           0,
           0.385,
           0.4,
           0,
           0.105,
           0.756,
           151.974,
           185493,
           4
          ],
          [
           0.68,
           7,
           -6.551,
           0,
           0.0774,
           0.392,
           0.00000122,
           0.107,
           0.567,
           75.445,
           168574,
           4
          ],
          [
           0.459,
           6,
           -12.072,
           0,
           0.118,
           0.0499,
           0.000001,
           0.408,
           0.525,
           159.021,
           186415,
           4
          ],
          [
           0.581,
           10,
           -9.026,
           0,
           0.339,
           0.753,
           0.00000139,
           0.13,
           0.351,
           76.506,
           169347,
           4
          ],
          [
           0.0515,
           4,
           -28.493,
           0,
           0.0324,
           0.708,
           0.631,
           0.42,
           0.154,
           128.056,
           125533,
           4
          ],
          [
           0.7,
           7,
           -7.649,
           0,
           0.108,
           0.491,
           0,
           0.108,
           0.769,
           82.028,
           190067,
           4
          ],
          [
           0.479,
           11,
           -9.071,
           0,
           0.273,
           0.208,
           0,
           0.0902,
           0.719,
           146.049,
           134554,
           4
          ],
          [
           0.977,
           8,
           -8.179,
           0,
           0.0727,
           0.0000818,
           0.924,
           0.103,
           0.449,
           137.681,
           194160,
           4
          ],
          [
           0.423,
           1,
           -9.795,
           0,
           0.108,
           0.832,
           0.0000104,
           0.0644,
           0.712,
           75.026,
           194000,
           4
          ],
          [
           0.886,
           5,
           -3.777,
           0,
           0.0837,
           0.00045,
           0,
           0.26,
           0.395,
           126.025,
           229933,
           4
          ],
          [
           0.629,
           3,
           -5.663,
           0,
           0.147,
           0.241,
           0,
           0.108,
           0.724,
           94.008,
           207772,
           4
          ],
          [
           0.974,
           8,
           -6.237,
           0,
           0.106,
           0.0000232,
           0.886,
           0.241,
           0.33,
           93.771,
           257390,
           3
          ],
          [
           0.98,
           1,
           -5.016,
           0,
           0.122,
           0.000319,
           0.906,
           0.105,
           0.34,
           97.346,
           211947,
           4
          ],
          [
           0.76,
           11,
           -6.382,
           0,
           0.117,
           0.392,
           0,
           0.132,
           0.813,
           99.974,
           216285,
           4
          ],
          [
           0.0024,
           1,
           -42.261,
           0,
           0.0531,
           0.995,
           0.897,
           0.0942,
           0.267,
           71.428,
           397773,
           4
          ],
          [
           0.534,
           10,
           -10.264,
           0,
           0.483,
           0.639,
           0,
           0.0844,
           0.556,
           170.054,
           146480,
           4
          ],
          [
           0.85,
           5,
           -3.45,
           0,
           0.0734,
           0.185,
           0.00046,
           0.149,
           0.357,
           152.018,
           178809,
           4
          ],
          [
           0.381,
           0,
           -8.757,
           0,
           0.0802,
           0.653,
           0,
           0.116,
           0.166,
           84.907,
           325556,
           4
          ],
          [
           0.653,
           0,
           -7.178,
           0,
           0.306,
           0.335,
           0,
           0.11,
           0.639,
           139.981,
           199093,
           4
          ],
          [
           0.992,
           8,
           -7.766,
           0,
           0.0772,
           0.0000285,
           0.799,
           0.0808,
           0.318,
           142.891,
           237093,
           4
          ],
          [
           0.556,
           5,
           -8.516,
           0,
           0.191,
           0.684,
           0,
           0.119,
           0.591,
           150.067,
           187006,
           4
          ],
          [
           0.881,
           5,
           -5.491,
           0,
           0.108,
           0.000163,
           0.00143,
           0.23,
           0.556,
           148.084,
           187322,
           4
          ],
          [
           0.803,
           8,
           -3.929,
           0,
           0.339,
           0.325,
           0,
           0.368,
           0.414,
           97.51,
           191133,
           5
          ],
          [
           0.5,
           1,
           -9.805,
           0,
           0.42,
           0.603,
           0,
           0.0993,
           0.492,
           130.027,
           170582,
           4
          ],
          [
           0.877,
           5,
           -10.241,
           0,
           0.0353,
           0.191,
           0.000656,
           0.349,
           0.922,
           108.674,
           185107,
           4
          ],
          [
           0.772,
           10,
           -8.706,
           0,
           0.157,
           0.206,
           0,
           0.0748,
           0.561,
           139.98,
           224496,
           4
          ],
          [
           0.977,
           10,
           -5.036,
           0,
           0.0781,
           0.000535,
           0.472,
           0.105,
           0.339,
           172.059,
           284400,
           4
          ],
          [
           0.403,
           6,
           -9.311,
           0,
           0.0635,
           0.509,
           0.0247,
           0.104,
           0.331,
           138.013,
           173120,
           4
          ],
          [
           0.813,
           4,
           -5.708,
           0,
           0.29,
           0.244,
           0,
           0.128,
           0.705,
           154.062,
           217760,
           4
          ],
          [
           0.905,
           11,
           -7.015,
           0,
           0.181,
           0.0931,
           0.000739,
           0.355,
           0.521,
           150.991,
           179107,
           4
          ],
          [
           0.341,
           1,
           -12.26,
           0,
           0.0418,
           0.499,
           0.903,
           0.359,
           0.163,
           105.513,
           151507,
           3
          ],
          [
           0.705,
           4,
           -7.834,
           0,
           0.0827,
           0.277,
           0,
           0.0804,
           0.228,
           103.048,
           233597,
           4
          ],
          [
           0.988,
           8,
           -7.29,
           0,
           0.0865,
           0.0000835,
           0.833,
           0.0377,
           0.449,
           99.046,
           221960,
           4
          ],
          [
           0.551,
           5,
           -13.038,
           0,
           0.0625,
           0.0613,
           0.104,
           0.0331,
           0.969,
           126.009,
           491933,
           4
          ],
          [
           0.797,
           1,
           -3.071,
           0,
           0.2,
           0.392,
           0,
           0.116,
           0.654,
           110.882,
           218732,
           3
          ],
          [
           0.836,
           0,
           -9.223,
           0,
           0.0486,
           0.396,
           0.0236,
           0.135,
           0.831,
           108.966,
           222667,
           4
          ],
          [
           0.612,
           10,
           -7.446,
           0,
           0.079,
           0.112,
           0,
           0.0892,
           0.252,
           97.989,
           243956,
           4
          ],
          [
           0.673,
           5,
           -5.363,
           0,
           0.352,
           0.287,
           0,
           0.219,
           0.683,
           152.085,
           162960,
           4
          ],
          [
           0.981,
           10,
           -7.282,
           0,
           0.118,
           0.0000627,
           0.729,
           0.219,
           0.275,
           99.338,
           375307,
           4
          ],
          [
           0.811,
           6,
           -7.76,
           0,
           0.0349,
           0.203,
           0.00558,
           0.139,
           0.766,
           106.684,
           246760,
           4
          ],
          [
           0.934,
           10,
           -4.679,
           0,
           0.0962,
           0.000325,
           0.853,
           0.453,
           0.18,
           112.834,
           225867,
           3
          ],
          [
           0.673,
           6,
           -7.017,
           0,
           0.0857,
           0.429,
           0,
           0.105,
           0.785,
           149.974,
           192107,
           4
          ],
          [
           0.952,
           7,
           -8.631,
           0,
           0.103,
           0.0000219,
           0.587,
           0.135,
           0.0724,
           144.481,
           206120,
           4
          ],
          [
           0.371,
           9,
           -9.965,
           0,
           0.0437,
           0.4,
           0.000367,
           0.0953,
           0.197,
           127.966,
           316546,
           4
          ],
          [
           0.748,
           1,
           -8.348,
           0,
           0.507,
           0.639,
           0,
           0.34,
           0.58,
           129.433,
           203048,
           4
          ],
          [
           0.584,
           9,
           -9.959,
           0,
           0.54,
           0.65,
           0,
           0.128,
           0.366,
           119.303,
           209440,
           5
          ],
          [
           0.902,
           11,
           -5.308,
           0,
           0.0434,
           0.00308,
           0.000233,
           0.13,
           0.271,
           100.007,
           186041,
           4
          ],
          [
           0.845,
           1,
           -2.901,
           0,
           0.305,
           0.279,
           0,
           0.052,
           0.633,
           142.012,
           190986,
           4
          ],
          [
           0.982,
           1,
           -7.911,
           0,
           0.145,
           0.0000581,
           0.000151,
           0.171,
           0.166,
           136.707,
           126333,
           4
          ],
          [
           0.465,
           6,
           -9.716,
           0,
           0.171,
           0.772,
           0.00000198,
           0.287,
           0.407,
           103.025,
           256281,
           4
          ],
          [
           0.517,
           6,
           -7.557,
           0,
           0.0451,
           0.231,
           0.0000362,
           0.0777,
           0.0761,
           120.914,
           285627,
           4
          ],
          [
           0.698,
           6,
           -7.706,
           0,
           0.0704,
           0.293,
           0.0000232,
           0.0908,
           0.119,
           119.963,
           247161,
           4
          ],
          [
           0.983,
           8,
           -8.466,
           0,
           0.0818,
           0.00000305,
           0.919,
           0.0959,
           0.316,
           179.661,
           183827,
           4
          ],
          [
           0.648,
           4,
           -5.49,
           0,
           0.273,
           0.396,
           0,
           0.117,
           0.658,
           149.978,
           180000,
           4
          ],
          [
           0.456,
           11,
           -16.055,
           0,
           0.0535,
           0.973,
           0.353,
           0.186,
           0.974,
           144.489,
           210680,
           3
          ],
          [
           0.00732,
           4,
           -30.908,
           0,
           0.0355,
           0.991,
           0.952,
           0.0968,
           0.0964,
           60.171,
           241987,
           4
          ],
          [
           0.639,
           3,
           -7.836,
           0,
           0.0583,
           0.019,
           0,
           0.0522,
           0.758,
           157.738,
           247440,
           4
          ],
          [
           0.986,
           8,
           -8.346,
           0,
           0.166,
           0.000386,
           0.747,
           0.43,
           0.302,
           86.179,
           245773,
           4
          ],
          [
           0.941,
           2,
           -3.598,
           0,
           0.0575,
           0.000526,
           0.0000035,
           0.31,
           0.503,
           156.033,
           232067,
           4
          ],
          [
           0.715,
           5,
           -4.261,
           0,
           0.0662,
           0.00108,
           0.0000457,
           0.182,
           0.767,
           140.061,
           183428,
           4
          ],
          [
           0.758,
           6,
           -7.112,
           0,
           0.261,
           0.318,
           0,
           0.156,
           0.538,
           131.001,
           207907,
           4
          ],
          [
           0.569,
           10,
           -7.007,
           0,
           0.0375,
           0.392,
           0.000175,
           0.12,
           0.359,
           109.041,
           252373,
           4
          ],
          [
           0.558,
           1,
           -6.382,
           0,
           0.208,
           0.542,
           0.00000185,
           0.0934,
           0.537,
           153.99,
           204179,
           4
          ],
          [
           0.565,
           6,
           -8.884,
           0,
           0.23,
           0.641,
           0,
           0.0688,
           0.619,
           79.993,
           171000,
           4
          ],
          [
           0.616,
           6,
           -8.239,
           0,
           0.264,
           0.0104,
           0,
           0.0644,
           0.691,
           125.059,
           130560,
           4
          ],
          [
           0.962,
           11,
           -3.063,
           0,
           0.0831,
           0.00901,
           0,
           0.065,
           0.566,
           164.032,
           208827,
           4
          ],
          [
           0.0317,
           9,
           -35.616,
           0,
           0.0407,
           0.984,
           0.888,
           0.0974,
           0.142,
           135.974,
           150733,
           3
          ],
          [
           0.952,
           2,
           -5.075,
           0,
           0.09,
           0.000243,
           0.00449,
           0.554,
           0.177,
           140.046,
           216033,
           4
          ],
          [
           0.9,
           5,
           -9.583,
           0,
           0.0354,
           0.0791,
           0.00142,
           0.354,
           0.947,
           108.698,
           183667,
           4
          ],
          [
           0.552,
           10,
           -15.485,
           0,
           0.0363,
           0.0752,
           0.0012,
           0.15,
           0.961,
           103.604,
           281667,
           4
          ],
          [
           0.468,
           2,
           -9.28,
           0,
           0.0278,
           0.6,
           0.0000298,
           0.0623,
           0.628,
           108.628,
           248440,
           4
          ],
          [
           0.852,
           5,
           -6.81,
           0,
           0.039,
           0.00418,
           0.00000108,
           0.146,
           0.861,
           145.009,
           190000,
           4
          ],
          [
           0.996,
           10,
           -4.907,
           0,
           0.215,
           0.0000493,
           0.601,
           0.187,
           0.0468,
           94.992,
           211693,
           4
          ],
          [
           0.6,
           5,
           -7.585,
           0,
           0.0909,
           0.542,
           0,
           0.0841,
           0.39,
           115.908,
           352627,
           4
          ],
          [
           0.381,
           9,
           -10.033,
           0,
           0.0429,
           0.416,
           0.000226,
           0.0958,
           0.153,
           127.667,
           316378,
           4
          ],
          [
           0.629,
           1,
           -6.602,
           0,
           0.279,
           0.0987,
           0,
           0.0737,
           0.22,
           140.025,
           190972,
           4
          ],
          [
           0.602,
           0,
           -8.173,
           0,
           0.336,
           0.127,
           0,
           0.115,
           0.723,
           142.95,
           77203,
           4
          ],
          [
           0.0551,
           9,
           -19.494,
           0,
           0.052,
           0.976,
           0.635,
           0.119,
           0.143,
           176.616,
           206520,
           3
          ],
          [
           0.351,
           9,
           -11.509,
           0,
           0.0448,
           0.951,
           0.0000994,
           0.118,
           0.616,
           90.664,
           235947,
           4
          ],
          [
           0.729,
           10,
           -5.838,
           0,
           0.0965,
           0.0406,
           0.00000405,
           0.194,
           0.413,
           110.547,
           190239,
           5
          ]
         ],
         "hovertemplate": "mode=%{customdata[3]}<br>liked=%{x}<br>danceability=%{y}<br>energy=%{customdata[0]}<br>key=%{customdata[1]}<br>loudness=%{customdata[2]}<br>speechiness=%{customdata[4]}<br>acousticness=%{customdata[5]}<br>instrumentalness=%{customdata[6]}<br>liveness=%{customdata[7]}<br>valence=%{customdata[8]}<br>tempo=%{customdata[9]}<br>duration_ms=%{customdata[10]}<br>time_signature=%{customdata[11]}<extra></extra>",
         "legendgroup": "0",
         "marker": {
          "color": "cyan"
         },
         "name": "0",
         "offsetgroup": "0",
         "orientation": "v",
         "points": "all",
         "scalegroup": "True",
         "showlegend": true,
         "type": "violin",
         "x": [
          0,
          1,
          1,
          1,
          0,
          0,
          0,
          1,
          0,
          1,
          1,
          1,
          1,
          1,
          0,
          0,
          1,
          0,
          1,
          1,
          1,
          0,
          0,
          0,
          0,
          1,
          1,
          0,
          1,
          0,
          1,
          1,
          1,
          1,
          0,
          1,
          0,
          1,
          1,
          1,
          0,
          0,
          0,
          0,
          1,
          0,
          1,
          1,
          0,
          0,
          0,
          1,
          0,
          0,
          1,
          1,
          1,
          1,
          0,
          0,
          0,
          0,
          0,
          1,
          0,
          0,
          0,
          0,
          1,
          1,
          1,
          0,
          1,
          1,
          1,
          1,
          0,
          1,
          0,
          0,
          0,
          1,
          0,
          0,
          0,
          1,
          1,
          0,
          0,
          1
         ],
         "x0": " ",
         "xaxis": "x",
         "y": [
          0.803,
          0.762,
          0.722,
          0.666,
          0.794,
          0.684,
          0.438,
          0.802,
          0.729,
          0.65,
          0.809,
          0.689,
          0.668,
          0.573,
          0.307,
          0.784,
          0.895,
          0.358,
          0.742,
          0.603,
          0.839,
          0.184,
          0.373,
          0.826,
          0.267,
          0.616,
          0.581,
          0.656,
          0.809,
          0.247,
          0.826,
          0.506,
          0.531,
          0.791,
          0.68,
          0.75,
          0.446,
          0.74,
          0.833,
          0.752,
          0.701,
          0.779,
          0.338,
          0.78,
          0.567,
          0.783,
          0.83,
          0.871,
          0.251,
          0.819,
          0.29,
          0.641,
          0.256,
          0.592,
          0.828,
          0.671,
          0.784,
          0.847,
          0.25,
          0.648,
          0.609,
          0.777,
          0.196,
          0.808,
          0.456,
          0.334,
          0.651,
          0.266,
          0.483,
          0.726,
          0.75,
          0.688,
          0.883,
          0.87,
          0.853,
          0.452,
          0.191,
          0.45,
          0.656,
          0.712,
          0.797,
          0.64,
          0.571,
          0.762,
          0.583,
          0.864,
          0.856,
          0.166,
          0.499,
          0.574
         ],
         "y0": " ",
         "yaxis": "y"
        },
        {
         "alignmentgroup": "True",
         "box": {
          "visible": true
         },
         "customdata": [
          [
           0.0149,
           1,
           -27.528,
           1,
           0.0419,
           0.992,
           0.897,
           0.102,
           0.0382,
           75.296,
           286987,
           4
          ],
          [
           0.572,
           1,
           -7.516,
           1,
           0.222,
           0.145,
           0,
           0.0753,
           0.647,
           155.117,
           179413,
           4
          ],
          [
           0.632,
           8,
           -6.415,
           1,
           0.125,
           0.0404,
           0,
           0.0912,
           0.827,
           140.951,
           224029,
           4
          ],
          [
           0.712,
           7,
           -6.024,
           1,
           0.171,
           0.0779,
           0.0000396,
           0.175,
           0.904,
           104.964,
           161800,
           4
          ],
          [
           0.668,
           3,
           -6.995,
           1,
           0.447,
           0.263,
           0,
           0.104,
           0.745,
           157.995,
           165363,
           4
          ],
          [
           0.993,
           9,
           -7.173,
           1,
           0.118,
           0.0000566,
           0.77,
           0.0766,
           0.178,
           127.693,
           182427,
           4
          ],
          [
           0.433,
           1,
           -9.19,
           1,
           0.241,
           0.00471,
           0,
           0.132,
           0.676,
           147.942,
           225000,
           4
          ],
          [
           0.973,
           1,
           -4.505,
           1,
           0.151,
           0.00146,
           0.918,
           0.139,
           0.234,
           102.757,
           170520,
           4
          ],
          [
           0.743,
           6,
           -5.782,
           1,
           0.22,
           0.584,
           0,
           0.101,
           0.191,
           168.849,
           185667,
           4
          ],
          [
           0.957,
           8,
           -2.336,
           1,
           0.0741,
           0.0431,
           0,
           0.0789,
           0.692,
           134.992,
           178013,
           4
          ],
          [
           0.853,
           8,
           -5.65,
           1,
           0.123,
           0.0155,
           0,
           0.105,
           0.734,
           142.03,
           136901,
           4
          ],
          [
           0.456,
           8,
           -9.482,
           1,
           0.0874,
           0.44,
           0,
           0.072,
           0.124,
           94.032,
           314367,
           4
          ],
          [
           0.475,
           1,
           -10.889,
           1,
           0.154,
           0.523,
           0,
           0.113,
           0.235,
           117.006,
           201384,
           4
          ],
          [
           0.852,
           8,
           -5.202,
           1,
           0.241,
           0.0555,
           0.0000245,
           0.0536,
           0.48,
           136.035,
           102353,
           4
          ],
          [
           0.835,
           9,
           -3.832,
           1,
           0.202,
           0.165,
           0,
           0.112,
           0.609,
           150.04,
           139240,
           4
          ],
          [
           0.535,
           4,
           -12.028,
           1,
           0.376,
           0.274,
           0,
           0.0984,
           0.205,
           180.036,
           176000,
           3
          ],
          [
           0.457,
           1,
           -7.908,
           1,
           0.237,
           0.0987,
           0,
           0.0967,
           0.193,
           101.052,
           210733,
           4
          ],
          [
           0.839,
           6,
           -4.847,
           1,
           0.297,
           0.0867,
           0,
           0.204,
           0.804,
           172.068,
           111000,
           4
          ],
          [
           0.333,
           8,
           -13.553,
           1,
           0.526,
           0.0608,
           0,
           0.157,
           0.313,
           148.168,
           98615,
           4
          ],
          [
           0.98,
           1,
           -5.138,
           1,
           0.153,
           0.00127,
           0.091,
           0.102,
           0.257,
           79.792,
           270920,
           4
          ],
          [
           0.471,
           0,
           -8.664,
           1,
           0.0945,
           0.446,
           0.00000363,
           0.369,
           0.682,
           70.702,
           165800,
           3
          ],
          [
           0.97,
           1,
           -4.197,
           1,
           0.105,
           0.000428,
           0.912,
           0.376,
           0.381,
           119.215,
           123880,
           4
          ],
          [
           0.751,
           8,
           -8.582,
           1,
           0.0806,
           0.0182,
           0.000401,
           0.0418,
           0.863,
           100.437,
           244827,
           4
          ],
          [
           0.748,
           2,
           -3.645,
           1,
           0.188,
           0.174,
           0,
           0.207,
           0.381,
           121.063,
           209667,
           4
          ],
          [
           0.974,
           1,
           -5.82,
           1,
           0.0816,
           0.0000294,
           0.723,
           0.0751,
           0.399,
           107.877,
           186576,
           3
          ],
          [
           0.622,
           2,
           -6.995,
           1,
           0.405,
           0.153,
           0,
           0.0917,
           0.638,
           84.991,
           163765,
           4
          ],
          [
           0.994,
           8,
           -5.781,
           1,
           0.131,
           0.0000369,
           0.582,
           0.207,
           0.139,
           108.017,
           247564,
           4
          ],
          [
           0.788,
           2,
           -7.654,
           1,
           0.069,
           0.191,
           0.000176,
           0.0774,
           0.328,
           139.959,
           219077,
           4
          ],
          [
           0.451,
           2,
           -11.121,
           1,
           0.292,
           0.0485,
           0.00000156,
           0.337,
           0.506,
           150.035,
           167062,
           4
          ],
          [
           0.00799,
           8,
           -33.09,
           1,
           0.0395,
           0.978,
           0.894,
           0.109,
           0.0674,
           101.226,
           216093,
           4
          ],
          [
           0.673,
           2,
           -10.431,
           1,
           0.0693,
           0.0422,
           0.0000684,
           0.289,
           0.59,
           102.035,
           197693,
           4
          ],
          [
           0.0633,
           6,
           -23.869,
           1,
           0.0507,
           0.992,
           0.871,
           0.0831,
           0.0384,
           129.466,
           199133,
           3
          ],
          [
           0.991,
           8,
           -5.661,
           1,
           0.175,
           0.0000153,
           0.831,
           0.337,
           0.0718,
           94.443,
           244239,
           1
          ],
          [
           0.468,
           0,
           -9.966,
           1,
           0.333,
           0.805,
           0,
           0.136,
           0.716,
           82.795,
           179253,
           4
          ],
          [
           0.654,
           8,
           -7.373,
           1,
           0.245,
           0.633,
           0,
           0.106,
           0.64,
           145.121,
           172520,
           4
          ],
          [
           0.853,
           1,
           -6.933,
           1,
           0.246,
           0.0275,
           0,
           0.0876,
           0.619,
           123.041,
           106000,
           4
          ],
          [
           0.686,
           11,
           -8.143,
           1,
           0.222,
           0.597,
           0.00000108,
           0.111,
           0.752,
           154.986,
           195344,
           4
          ],
          [
           0.656,
           1,
           -11.184,
           1,
           0.0595,
           0.0466,
           0.0187,
           0.169,
           0.931,
           121.112,
           215653,
           4
          ],
          [
           0.487,
           1,
           -9.653,
           1,
           0.202,
           0.309,
           0,
           0.097,
           0.375,
           169.985,
           186353,
           4
          ],
          [
           0.968,
           6,
           -6.289,
           1,
           0.0787,
           0.0000173,
           0.338,
           0.0472,
           0.535,
           103.965,
           250262,
           4
          ],
          [
           0.804,
           9,
           -5.846,
           1,
           0.128,
           0.455,
           0.00000141,
           0.272,
           0.566,
           146.079,
           178588,
           4
          ],
          [
           0.84,
           9,
           -5.29,
           1,
           0.097,
           0.0309,
           0,
           0.0916,
           0.494,
           136.059,
           84000,
           4
          ],
          [
           0.573,
           0,
           -11.893,
           1,
           0.0423,
           0.271,
           0,
           0.0607,
           0.897,
           81.548,
           231333,
           4
          ],
          [
           0.707,
           2,
           -5.777,
           1,
           0.277,
           0.167,
           0,
           0.0797,
           0.682,
           146.154,
           190685,
           4
          ],
          [
           0.202,
           1,
           -17.687,
           1,
           0.0408,
           0.984,
           0.905,
           0.089,
           0.12,
           71.462,
           545747,
           4
          ],
          [
           0.672,
           9,
           -12.068,
           1,
           0.0619,
           0.0435,
           0,
           0.061,
           0.933,
           109.394,
           300000,
           4
          ],
          [
           0.811,
           10,
           -13.87,
           1,
           0.0318,
           0.0648,
           0.0293,
           0.1,
           0.962,
           112.126,
           186573,
           4
          ],
          [
           0.564,
           2,
           -5.98,
           1,
           0.047,
           0.23,
           0.0000183,
           0.183,
           0.394,
           108.004,
           254218,
           4
          ],
          [
           0.746,
           10,
           -8.639,
           1,
           0.0313,
           0.0304,
           0.361,
           0.0703,
           0.965,
           128.553,
           655213,
           4
          ],
          [
           0.61,
           9,
           -5.735,
           1,
           0.271,
           0.213,
           0.0000336,
           0.241,
           0.443,
           140.006,
           197613,
           4
          ],
          [
           0.553,
           7,
           -13.705,
           1,
           0.0487,
           0.0422,
           0.00356,
           0.249,
           0.89,
           119.825,
           215693,
           4
          ],
          [
           0.812,
           7,
           -4.946,
           1,
           0.179,
           0.202,
           0,
           0.126,
           0.742,
           139.961,
           194973,
           4
          ],
          [
           0.939,
           6,
           -2.762,
           1,
           0.274,
           0.117,
           0,
           0.0643,
           0.805,
           142.948,
           356347,
           4
          ],
          [
           0.682,
           7,
           -7.714,
           1,
           0.1,
           0.325,
           0.0000042,
           0.0928,
           0.136,
           103.037,
           230013,
           4
          ],
          [
           0.663,
           2,
           -8.47,
           1,
           0.0507,
           0.0148,
           0.000666,
           0.393,
           0.415,
           132.012,
           100000,
           4
          ],
          [
           0.536,
           9,
           -10.784,
           1,
           0.0793,
           0.000809,
           0.00245,
           0.0804,
           0.451,
           100.047,
           149000,
           4
          ],
          [
           0.365,
           7,
           -13.864,
           1,
           0.0356,
           0.927,
           0.907,
           0.17,
           0.126,
           91.187,
           183667,
           3
          ],
          [
           0.616,
           10,
           -13.826,
           1,
           0.032,
           0.458,
           0.0132,
           0.349,
           0.851,
           114.223,
           226333,
           4
          ],
          [
           0.474,
           1,
           -8.24,
           1,
           0.276,
           0.3,
           0.00000107,
           0.113,
           0.558,
           138.027,
           146480,
           4
          ],
          [
           0.075,
           0,
           -20.328,
           1,
           0.0408,
           0.992,
           0.913,
           0.106,
           0.0353,
           68.232,
           241187,
           3
          ],
          [
           0.97,
           8,
           -3.28,
           1,
           0.259,
           0.241,
           0,
           0.289,
           0.766,
           99.97,
           194138,
           4
          ],
          [
           0.104,
           2,
           -19.802,
           1,
           0.0336,
           0.935,
           0.866,
           0.362,
           0.176,
           92.628,
           310000,
           4
          ],
          [
           0.915,
           1,
           -8.992,
           1,
           0.0718,
           0.0000986,
           0.704,
           0.633,
           0.482,
           101.017,
           228733,
           3
          ],
          [
           0.828,
           5,
           -9.211,
           1,
           0.0462,
           0.185,
           0.429,
           0.0839,
           0.768,
           110.071,
           323347,
           4
          ],
          [
           0.6,
           6,
           -7.856,
           1,
           0.142,
           0.405,
           0,
           0.119,
           0.539,
           75.006,
           183891,
           4
          ],
          [
           0.809,
           9,
           -8.197,
           1,
           0.0302,
           0.114,
           0.000521,
           0.183,
           0.98,
           125.941,
           214827,
           4
          ],
          [
           0.551,
           8,
           -10.49,
           1,
           0.343,
           0.0342,
           0,
           0.102,
           0.753,
           124.906,
           88320,
           4
          ],
          [
           0.805,
           1,
           -7.082,
           1,
           0.253,
           0.203,
           0.0000076,
           0.227,
           0.283,
           131.716,
           149422,
           4
          ],
          [
           0.0656,
           7,
           -24.81,
           1,
           0.0467,
           0.992,
           0.969,
           0.0699,
           0.0384,
           65.023,
           150147,
           3
          ],
          [
           0.582,
           7,
           -5.357,
           1,
           0.0665,
           0.0696,
           0.0000478,
           0.0984,
           0.844,
           126.063,
           249598,
           4
          ],
          [
           0.667,
           7,
           -8.561,
           1,
           0.0758,
           0.235,
           0,
           0.0599,
           0.402,
           134.985,
           85333,
           3
          ],
          [
           0.0487,
           5,
           -27.675,
           1,
           0.0412,
           0.986,
           0.945,
           0.0679,
           0.101,
           134.839,
           203656,
           5
          ],
          [
           0.577,
           2,
           -6.657,
           1,
           0.401,
           0.106,
           0,
           0.0689,
           0.848,
           140.002,
           166853,
           4
          ],
          [
           0.703,
           2,
           -4.623,
           1,
           0.112,
           0.0617,
           0,
           0.0484,
           0.586,
           137.043,
           214456,
           4
          ],
          [
           0.61,
           9,
           -6.9,
           1,
           0.231,
           0.00153,
           0.00000175,
           0.369,
           0.577,
           170.103,
           204000,
           4
          ],
          [
           0.72,
           6,
           -4.86,
           1,
           0.304,
           0.295,
           0,
           0.337,
           0.761,
           140.041,
           197674,
           4
          ],
          [
           0.0536,
           4,
           -23.399,
           1,
           0.0571,
           0.995,
           0.867,
           0.0808,
           0.0417,
           71.286,
           234467,
           4
          ],
          [
           0.918,
           4,
           -8.507,
           1,
           0.0959,
           0.405,
           0.00033,
           0.126,
           0.802,
           172.435,
           249960,
           4
          ],
          [
           0.947,
           8,
           -5.888,
           1,
           0.095,
           0.0000245,
           0.368,
           0.0453,
           0.334,
           60.631,
           272995,
           4
          ],
          [
           0.708,
           10,
           -5.05,
           1,
           0.102,
           0.329,
           0,
           0.093,
           0.723,
           139.961,
           203813,
           4
          ],
          [
           0.425,
           0,
           -9.773,
           1,
           0.0635,
           0.131,
           0.0000171,
           0.0726,
           0.235,
           114.969,
           268347,
           4
          ],
          [
           0.567,
           7,
           -6.61,
           1,
           0.416,
           0.122,
           0,
           0.101,
           0.659,
           73.679,
           94054,
           4
          ],
          [
           0.98,
           6,
           -6.835,
           1,
           0.079,
           0.0000522,
           0.843,
           0.0768,
           0.368,
           96.969,
           242760,
           4
          ],
          [
           0.719,
           5,
           -6.12,
           1,
           0.09,
           0.725,
           0,
           0.116,
           0.429,
           143.971,
           149013,
           4
          ],
          [
           0.847,
           6,
           -2.588,
           1,
           0.0361,
           0.414,
           0.00000321,
           0.406,
           0.743,
           120.527,
           228120,
           4
          ],
          [
           0.00363,
           1,
           -36.759,
           1,
           0.035,
           0.993,
           0.922,
           0.137,
           0.085,
           69.363,
           254000,
           3
          ],
          [
           0.0582,
           8,
           -25.398,
           1,
           0.0578,
           0.961,
           0.89,
           0.0941,
           0.0454,
           132.614,
           357707,
           1
          ],
          [
           0.848,
           9,
           -3.668,
           1,
           0.158,
           0.513,
           0,
           0.112,
           0.652,
           120.026,
           184000,
           4
          ],
          [
           0.646,
           7,
           -6.366,
           1,
           0.0668,
           0.195,
           0.0000319,
           0.0502,
           0.966,
           110.842,
           213427,
           4
          ],
          [
           0.67,
           7,
           -8.39,
           1,
           0.167,
           0.0857,
           0,
           0.101,
           0.766,
           151.124,
           209801,
           4
          ],
          [
           0.627,
           0,
           -7.464,
           1,
           0.275,
           0.305,
           0,
           0.078,
           0.645,
           155.03,
           150915,
           4
          ],
          [
           0.0287,
           10,
           -27.4,
           1,
           0.041,
           0.991,
           0.888,
           0.0874,
           0.0371,
           67.446,
           328000,
           4
          ],
          [
           0.155,
           5,
           -17.164,
           1,
           0.044,
           0.877,
           0.261,
           0.105,
           0.222,
           122.437,
           301720,
           4
          ],
          [
           0.813,
           11,
           -5.335,
           1,
           0.439,
           0.52,
           0,
           0.18,
           0.665,
           147.039,
           145853,
           4
          ],
          [
           0.129,
           7,
           -18.197,
           1,
           0.0595,
           0.968,
           0.946,
           0.101,
           0.296,
           136.871,
           169924,
           4
          ],
          [
           0.653,
           1,
           -6.199,
           1,
           0.308,
           0.466,
           0,
           0.21,
           0.551,
           132.979,
           173987,
           4
          ],
          [
           0.449,
           2,
           -10.634,
           1,
           0.0376,
           0.934,
           0.961,
           0.0697,
           0.036,
           92.468,
           315427,
           4
          ],
          [
           0.946,
           1,
           -3.412,
           1,
           0.261,
           0.094,
           0.0000663,
           0.0825,
           0.587,
           139.943,
           200571,
           4
          ],
          [
           0.492,
           0,
           -10.775,
           1,
           0.326,
           0.416,
           0,
           0.186,
           0.649,
           156.99,
           95533,
           4
          ],
          [
           0.659,
           7,
           -4.541,
           1,
           0.0387,
           0.785,
           0,
           0.112,
           0.631,
           90.056,
           186720,
           4
          ],
          [
           0.719,
           7,
           -6.262,
           1,
           0.234,
           0.109,
           0,
           0.058,
           0.815,
           143.975,
           230854,
           4
          ],
          [
           0.593,
           11,
           -5.284,
           1,
           0.0581,
           0.156,
           0.0262,
           0.0819,
           0.0888,
           128.646,
           158547,
           5
          ],
          [
           0.98,
           6,
           -5.626,
           1,
           0.143,
           0.00000584,
           0.86,
           0.0653,
           0.105,
           115.077,
           285907,
           4
          ],
          [
           0.624,
           3,
           -11.63,
           1,
           0.0565,
           0.0192,
           0.000153,
           0.0465,
           0.882,
           124.896,
           254240,
           4
          ],
          [
           0.666,
           11,
           -7.845,
           1,
           0.197,
           0.13,
           0,
           0.36,
           0.531,
           77.507,
           177213,
           4
          ]
         ],
         "hovertemplate": "mode=%{customdata[3]}<br>liked=%{x}<br>danceability=%{y}<br>energy=%{customdata[0]}<br>key=%{customdata[1]}<br>loudness=%{customdata[2]}<br>speechiness=%{customdata[4]}<br>acousticness=%{customdata[5]}<br>instrumentalness=%{customdata[6]}<br>liveness=%{customdata[7]}<br>valence=%{customdata[8]}<br>tempo=%{customdata[9]}<br>duration_ms=%{customdata[10]}<br>time_signature=%{customdata[11]}<extra></extra>",
         "legendgroup": "1",
         "marker": {
          "color": "deeppink"
         },
         "name": "1",
         "offsetgroup": "1",
         "orientation": "v",
         "points": "all",
         "scalegroup": "True",
         "showlegend": true,
         "type": "violin",
         "x": [
          0,
          1,
          1,
          1,
          1,
          0,
          1,
          0,
          1,
          1,
          1,
          0,
          1,
          1,
          1,
          1,
          1,
          1,
          1,
          0,
          0,
          0,
          0,
          1,
          0,
          1,
          0,
          1,
          1,
          0,
          0,
          0,
          0,
          1,
          1,
          1,
          1,
          0,
          0,
          0,
          1,
          1,
          0,
          1,
          0,
          0,
          0,
          0,
          0,
          1,
          0,
          1,
          1,
          0,
          1,
          1,
          0,
          0,
          1,
          0,
          1,
          0,
          0,
          0,
          1,
          0,
          1,
          1,
          0,
          0,
          1,
          0,
          1,
          1,
          1,
          1,
          0,
          0,
          0,
          1,
          0,
          1,
          0,
          1,
          0,
          0,
          0,
          1,
          0,
          1,
          1,
          0,
          0,
          1,
          0,
          1,
          0,
          1,
          1,
          1,
          1,
          1,
          0,
          0,
          1
         ],
         "x0": " ",
         "xaxis": "x",
         "y": [
          0.261,
          0.787,
          0.778,
          0.922,
          0.853,
          0.297,
          0.816,
          0.297,
          0.564,
          0.64,
          0.85,
          0.745,
          0.754,
          0.797,
          0.798,
          0.6,
          0.867,
          0.749,
          0.657,
          0.291,
          0.608,
          0.448,
          0.648,
          0.924,
          0.462,
          0.878,
          0.363,
          0.568,
          0.757,
          0.364,
          0.598,
          0.318,
          0.138,
          0.752,
          0.797,
          0.774,
          0.851,
          0.843,
          0.539,
          0.454,
          0.827,
          0.789,
          0.62,
          0.83,
          0.263,
          0.814,
          0.651,
          0.798,
          0.798,
          0.908,
          0.832,
          0.764,
          0.901,
          0.715,
          0.743,
          0.792,
          0.235,
          0.677,
          0.875,
          0.379,
          0.705,
          0.28,
          0.245,
          0.72,
          0.878,
          0.697,
          0.915,
          0.696,
          0.213,
          0.909,
          0.816,
          0.23,
          0.912,
          0.827,
          0.699,
          0.751,
          0.392,
          0.461,
          0.13,
          0.829,
          0.734,
          0.798,
          0.357,
          0.7,
          0.705,
          0.368,
          0.191,
          0.946,
          0.889,
          0.72,
          0.792,
          0.335,
          0.463,
          0.849,
          0.205,
          0.901,
          0.447,
          0.716,
          0.795,
          0.767,
          0.8,
          0.533,
          0.225,
          0.862,
          0.747
         ],
         "y0": " ",
         "yaxis": "y"
        }
       ],
       "layout": {
        "legend": {
         "title": {
          "text": "mode"
         },
         "tracegroupgap": 0
        },
        "margin": {
         "t": 60
        },
        "template": {
         "data": {
          "bar": [
           {
            "error_x": {
             "color": "#2a3f5f"
            },
            "error_y": {
             "color": "#2a3f5f"
            },
            "marker": {
             "line": {
              "color": "#E5ECF6",
              "width": 0.5
             },
             "pattern": {
              "fillmode": "overlay",
              "size": 10,
              "solidity": 0.2
             }
            },
            "type": "bar"
           }
          ],
          "barpolar": [
           {
            "marker": {
             "line": {
              "color": "#E5ECF6",
              "width": 0.5
             },
             "pattern": {
              "fillmode": "overlay",
              "size": 10,
              "solidity": 0.2
             }
            },
            "type": "barpolar"
           }
          ],
          "carpet": [
           {
            "aaxis": {
             "endlinecolor": "#2a3f5f",
             "gridcolor": "white",
             "linecolor": "white",
             "minorgridcolor": "white",
             "startlinecolor": "#2a3f5f"
            },
            "baxis": {
             "endlinecolor": "#2a3f5f",
             "gridcolor": "white",
             "linecolor": "white",
             "minorgridcolor": "white",
             "startlinecolor": "#2a3f5f"
            },
            "type": "carpet"
           }
          ],
          "choropleth": [
           {
            "colorbar": {
             "outlinewidth": 0,
             "ticks": ""
            },
            "type": "choropleth"
           }
          ],
          "contour": [
           {
            "colorbar": {
             "outlinewidth": 0,
             "ticks": ""
            },
            "colorscale": [
             [
              0,
              "#0d0887"
             ],
             [
              0.1111111111111111,
              "#46039f"
             ],
             [
              0.2222222222222222,
              "#7201a8"
             ],
             [
              0.3333333333333333,
              "#9c179e"
             ],
             [
              0.4444444444444444,
              "#bd3786"
             ],
             [
              0.5555555555555556,
              "#d8576b"
             ],
             [
              0.6666666666666666,
              "#ed7953"
             ],
             [
              0.7777777777777778,
              "#fb9f3a"
             ],
             [
              0.8888888888888888,
              "#fdca26"
             ],
             [
              1,
              "#f0f921"
             ]
            ],
            "type": "contour"
           }
          ],
          "contourcarpet": [
           {
            "colorbar": {
             "outlinewidth": 0,
             "ticks": ""
            },
            "type": "contourcarpet"
           }
          ],
          "heatmap": [
           {
            "colorbar": {
             "outlinewidth": 0,
             "ticks": ""
            },
            "colorscale": [
             [
              0,
              "#0d0887"
             ],
             [
              0.1111111111111111,
              "#46039f"
             ],
             [
              0.2222222222222222,
              "#7201a8"
             ],
             [
              0.3333333333333333,
              "#9c179e"
             ],
             [
              0.4444444444444444,
              "#bd3786"
             ],
             [
              0.5555555555555556,
              "#d8576b"
             ],
             [
              0.6666666666666666,
              "#ed7953"
             ],
             [
              0.7777777777777778,
              "#fb9f3a"
             ],
             [
              0.8888888888888888,
              "#fdca26"
             ],
             [
              1,
              "#f0f921"
             ]
            ],
            "type": "heatmap"
           }
          ],
          "heatmapgl": [
           {
            "colorbar": {
             "outlinewidth": 0,
             "ticks": ""
            },
            "colorscale": [
             [
              0,
              "#0d0887"
             ],
             [
              0.1111111111111111,
              "#46039f"
             ],
             [
              0.2222222222222222,
              "#7201a8"
             ],
             [
              0.3333333333333333,
              "#9c179e"
             ],
             [
              0.4444444444444444,
              "#bd3786"
             ],
             [
              0.5555555555555556,
              "#d8576b"
             ],
             [
              0.6666666666666666,
              "#ed7953"
             ],
             [
              0.7777777777777778,
              "#fb9f3a"
             ],
             [
              0.8888888888888888,
              "#fdca26"
             ],
             [
              1,
              "#f0f921"
             ]
            ],
            "type": "heatmapgl"
           }
          ],
          "histogram": [
           {
            "marker": {
             "pattern": {
              "fillmode": "overlay",
              "size": 10,
              "solidity": 0.2
             }
            },
            "type": "histogram"
           }
          ],
          "histogram2d": [
           {
            "colorbar": {
             "outlinewidth": 0,
             "ticks": ""
            },
            "colorscale": [
             [
              0,
              "#0d0887"
             ],
             [
              0.1111111111111111,
              "#46039f"
             ],
             [
              0.2222222222222222,
              "#7201a8"
             ],
             [
              0.3333333333333333,
              "#9c179e"
             ],
             [
              0.4444444444444444,
              "#bd3786"
             ],
             [
              0.5555555555555556,
              "#d8576b"
             ],
             [
              0.6666666666666666,
              "#ed7953"
             ],
             [
              0.7777777777777778,
              "#fb9f3a"
             ],
             [
              0.8888888888888888,
              "#fdca26"
             ],
             [
              1,
              "#f0f921"
             ]
            ],
            "type": "histogram2d"
           }
          ],
          "histogram2dcontour": [
           {
            "colorbar": {
             "outlinewidth": 0,
             "ticks": ""
            },
            "colorscale": [
             [
              0,
              "#0d0887"
             ],
             [
              0.1111111111111111,
              "#46039f"
             ],
             [
              0.2222222222222222,
              "#7201a8"
             ],
             [
              0.3333333333333333,
              "#9c179e"
             ],
             [
              0.4444444444444444,
              "#bd3786"
             ],
             [
              0.5555555555555556,
              "#d8576b"
             ],
             [
              0.6666666666666666,
              "#ed7953"
             ],
             [
              0.7777777777777778,
              "#fb9f3a"
             ],
             [
              0.8888888888888888,
              "#fdca26"
             ],
             [
              1,
              "#f0f921"
             ]
            ],
            "type": "histogram2dcontour"
           }
          ],
          "mesh3d": [
           {
            "colorbar": {
             "outlinewidth": 0,
             "ticks": ""
            },
            "type": "mesh3d"
           }
          ],
          "parcoords": [
           {
            "line": {
             "colorbar": {
              "outlinewidth": 0,
              "ticks": ""
             }
            },
            "type": "parcoords"
           }
          ],
          "pie": [
           {
            "automargin": true,
            "type": "pie"
           }
          ],
          "scatter": [
           {
            "fillpattern": {
             "fillmode": "overlay",
             "size": 10,
             "solidity": 0.2
            },
            "type": "scatter"
           }
          ],
          "scatter3d": [
           {
            "line": {
             "colorbar": {
              "outlinewidth": 0,
              "ticks": ""
             }
            },
            "marker": {
             "colorbar": {
              "outlinewidth": 0,
              "ticks": ""
             }
            },
            "type": "scatter3d"
           }
          ],
          "scattercarpet": [
           {
            "marker": {
             "colorbar": {
              "outlinewidth": 0,
              "ticks": ""
             }
            },
            "type": "scattercarpet"
           }
          ],
          "scattergeo": [
           {
            "marker": {
             "colorbar": {
              "outlinewidth": 0,
              "ticks": ""
             }
            },
            "type": "scattergeo"
           }
          ],
          "scattergl": [
           {
            "marker": {
             "colorbar": {
              "outlinewidth": 0,
              "ticks": ""
             }
            },
            "type": "scattergl"
           }
          ],
          "scattermapbox": [
           {
            "marker": {
             "colorbar": {
              "outlinewidth": 0,
              "ticks": ""
             }
            },
            "type": "scattermapbox"
           }
          ],
          "scatterpolar": [
           {
            "marker": {
             "colorbar": {
              "outlinewidth": 0,
              "ticks": ""
             }
            },
            "type": "scatterpolar"
           }
          ],
          "scatterpolargl": [
           {
            "marker": {
             "colorbar": {
              "outlinewidth": 0,
              "ticks": ""
             }
            },
            "type": "scatterpolargl"
           }
          ],
          "scatterternary": [
           {
            "marker": {
             "colorbar": {
              "outlinewidth": 0,
              "ticks": ""
             }
            },
            "type": "scatterternary"
           }
          ],
          "surface": [
           {
            "colorbar": {
             "outlinewidth": 0,
             "ticks": ""
            },
            "colorscale": [
             [
              0,
              "#0d0887"
             ],
             [
              0.1111111111111111,
              "#46039f"
             ],
             [
              0.2222222222222222,
              "#7201a8"
             ],
             [
              0.3333333333333333,
              "#9c179e"
             ],
             [
              0.4444444444444444,
              "#bd3786"
             ],
             [
              0.5555555555555556,
              "#d8576b"
             ],
             [
              0.6666666666666666,
              "#ed7953"
             ],
             [
              0.7777777777777778,
              "#fb9f3a"
             ],
             [
              0.8888888888888888,
              "#fdca26"
             ],
             [
              1,
              "#f0f921"
             ]
            ],
            "type": "surface"
           }
          ],
          "table": [
           {
            "cells": {
             "fill": {
              "color": "#EBF0F8"
             },
             "line": {
              "color": "white"
             }
            },
            "header": {
             "fill": {
              "color": "#C8D4E3"
             },
             "line": {
              "color": "white"
             }
            },
            "type": "table"
           }
          ]
         },
         "layout": {
          "annotationdefaults": {
           "arrowcolor": "#2a3f5f",
           "arrowhead": 0,
           "arrowwidth": 1
          },
          "autotypenumbers": "strict",
          "coloraxis": {
           "colorbar": {
            "outlinewidth": 0,
            "ticks": ""
           }
          },
          "colorscale": {
           "diverging": [
            [
             0,
             "#8e0152"
            ],
            [
             0.1,
             "#c51b7d"
            ],
            [
             0.2,
             "#de77ae"
            ],
            [
             0.3,
             "#f1b6da"
            ],
            [
             0.4,
             "#fde0ef"
            ],
            [
             0.5,
             "#f7f7f7"
            ],
            [
             0.6,
             "#e6f5d0"
            ],
            [
             0.7,
             "#b8e186"
            ],
            [
             0.8,
             "#7fbc41"
            ],
            [
             0.9,
             "#4d9221"
            ],
            [
             1,
             "#276419"
            ]
           ],
           "sequential": [
            [
             0,
             "#0d0887"
            ],
            [
             0.1111111111111111,
             "#46039f"
            ],
            [
             0.2222222222222222,
             "#7201a8"
            ],
            [
             0.3333333333333333,
             "#9c179e"
            ],
            [
             0.4444444444444444,
             "#bd3786"
            ],
            [
             0.5555555555555556,
             "#d8576b"
            ],
            [
             0.6666666666666666,
             "#ed7953"
            ],
            [
             0.7777777777777778,
             "#fb9f3a"
            ],
            [
             0.8888888888888888,
             "#fdca26"
            ],
            [
             1,
             "#f0f921"
            ]
           ],
           "sequentialminus": [
            [
             0,
             "#0d0887"
            ],
            [
             0.1111111111111111,
             "#46039f"
            ],
            [
             0.2222222222222222,
             "#7201a8"
            ],
            [
             0.3333333333333333,
             "#9c179e"
            ],
            [
             0.4444444444444444,
             "#bd3786"
            ],
            [
             0.5555555555555556,
             "#d8576b"
            ],
            [
             0.6666666666666666,
             "#ed7953"
            ],
            [
             0.7777777777777778,
             "#fb9f3a"
            ],
            [
             0.8888888888888888,
             "#fdca26"
            ],
            [
             1,
             "#f0f921"
            ]
           ]
          },
          "colorway": [
           "#636efa",
           "#EF553B",
           "#00cc96",
           "#ab63fa",
           "#FFA15A",
           "#19d3f3",
           "#FF6692",
           "#B6E880",
           "#FF97FF",
           "#FECB52"
          ],
          "font": {
           "color": "#2a3f5f"
          },
          "geo": {
           "bgcolor": "white",
           "lakecolor": "white",
           "landcolor": "#E5ECF6",
           "showlakes": true,
           "showland": true,
           "subunitcolor": "white"
          },
          "hoverlabel": {
           "align": "left"
          },
          "hovermode": "closest",
          "mapbox": {
           "style": "light"
          },
          "paper_bgcolor": "white",
          "plot_bgcolor": "#E5ECF6",
          "polar": {
           "angularaxis": {
            "gridcolor": "white",
            "linecolor": "white",
            "ticks": ""
           },
           "bgcolor": "#E5ECF6",
           "radialaxis": {
            "gridcolor": "white",
            "linecolor": "white",
            "ticks": ""
           }
          },
          "scene": {
           "xaxis": {
            "backgroundcolor": "#E5ECF6",
            "gridcolor": "white",
            "gridwidth": 2,
            "linecolor": "white",
            "showbackground": true,
            "ticks": "",
            "zerolinecolor": "white"
           },
           "yaxis": {
            "backgroundcolor": "#E5ECF6",
            "gridcolor": "white",
            "gridwidth": 2,
            "linecolor": "white",
            "showbackground": true,
            "ticks": "",
            "zerolinecolor": "white"
           },
           "zaxis": {
            "backgroundcolor": "#E5ECF6",
            "gridcolor": "white",
            "gridwidth": 2,
            "linecolor": "white",
            "showbackground": true,
            "ticks": "",
            "zerolinecolor": "white"
           }
          },
          "shapedefaults": {
           "line": {
            "color": "#2a3f5f"
           }
          },
          "ternary": {
           "aaxis": {
            "gridcolor": "white",
            "linecolor": "white",
            "ticks": ""
           },
           "baxis": {
            "gridcolor": "white",
            "linecolor": "white",
            "ticks": ""
           },
           "bgcolor": "#E5ECF6",
           "caxis": {
            "gridcolor": "white",
            "linecolor": "white",
            "ticks": ""
           }
          },
          "title": {
           "x": 0.05
          },
          "xaxis": {
           "automargin": true,
           "gridcolor": "white",
           "linecolor": "white",
           "ticks": "",
           "title": {
            "standoff": 15
           },
           "zerolinecolor": "white",
           "zerolinewidth": 2
          },
          "yaxis": {
           "automargin": true,
           "gridcolor": "white",
           "linecolor": "white",
           "ticks": "",
           "title": {
            "standoff": 15
           },
           "zerolinecolor": "white",
           "zerolinewidth": 2
          }
         }
        },
        "title": {
         "text": "danceability and likeness on mode"
        },
        "violinmode": "group",
        "xaxis": {
         "anchor": "y",
         "domain": [
          0,
          1
         ],
         "title": {
          "text": "liked"
         }
        },
        "yaxis": {
         "anchor": "x",
         "domain": [
          0,
          1
         ],
         "title": {
          "text": "danceability"
         }
        }
       }
      }
     },
     "metadata": {},
     "output_type": "display_data"
    }
   ],
   "source": [
    "fig = px.violin(spotify, y=\"danceability\", x=\"liked\", color=\"mode\", box=True, points=\"all\", hover_data=spotify.columns, color_discrete_sequence=['cyan', 'deeppink'])\n",
    "fig.update_layout(title_text=\"danceability and likeness on mode\")\n",
    "fig.show()"
   ]
  },
  {
   "attachments": {},
   "cell_type": "markdown",
   "metadata": {},
   "source": [
    "<center>Violin plot of danceability and likeness on mode</center>\n",
    "\n",
    "* Mode 0: representing minor in cyan\n",
    "* Mode 1: representing major in purple\n",
    "* in the not liked: both minor and major are very similar in terms of danceability\n",
    "* in the liked: both minor and major are very similar in terms of danceability again\n",
    "* this is to be expected though since songs are a matter of taste and someone may\n",
    "  or may not like a song regardless of it's danceability \n",
    "* this shows that the listener is interested in both danceable songs and non-danceable songs\n",
    "* However it seems that danceability 0.8 is his/her most preferred option"
   ]
  },
  {
   "cell_type": "code",
   "execution_count": 23,
   "metadata": {},
   "outputs": [
    {
     "data": {
      "image/png": "[encoded data removed]",
      "text/plain": [
       "<Figure size 800x600 with 1 Axes>"
      ]
     },
     "metadata": {},
     "output_type": "display_data"
    }
   ],
   "source": [
    "# Create a histogram of danceability values\n",
    "plt.hist(spotify['danceability'], bins=20, color='crimson')\n",
    "plt.xlabel('Danceability')\n",
    "plt.ylabel('Count')\n",
    "plt.title('Distribution of Danceability Values')\n",
    "plt.show()"
   ]
  },
  {
   "attachments": {},
   "cell_type": "markdown",
   "metadata": {},
   "source": [
    "<center>Distribution of histogram count</center>\n",
    "\n",
    " the majority of songs have about danceability of 0.7 score"
   ]
  },
  {
   "cell_type": "code",
   "execution_count": 24,
   "metadata": {},
   "outputs": [
    {
     "data": {
      "image/png": "[encoded data removed]",
      "text/plain": [
       "<Figure size 800x600 with 1 Axes>"
      ]
     },
     "metadata": {},
     "output_type": "display_data"
    }
   ],
   "source": [
    "# Compute the mean danceability for each key\n",
    "mean_danceability_by_key = spotify.groupby('key')['danceability'].mean()\n",
    "\n",
    "# Create a bar plot of mean danceability by key\n",
    "plt.bar(mean_danceability_by_key.index, mean_danceability_by_key.values, color='purple')\n",
    "plt.xlabel('Key')\n",
    "plt.ylabel('Mean Danceability')\n",
    "plt.title('Mean Danceability by Key')\n",
    "plt.show()\n"
   ]
  },
  {
   "attachments": {},
   "cell_type": "markdown",
   "metadata": {},
   "source": [
    "key 3 has the highest danceability of approximately 0.78!"
   ]
  },
  {
   "cell_type": "code",
   "execution_count": 25,
   "metadata": {},
   "outputs": [
    {
     "data": {
      "text/plain": [
       "<Axes: >"
      ]
     },
     "execution_count": 25,
     "metadata": {},
     "output_type": "execute_result"
    },
    {
     "data": {
      "image/png": "[encoded data removed]",
      "text/plain": [
       "<Figure size 1000x1000 with 2 Axes>"
      ]
     },
     "metadata": {},
     "output_type": "display_data"
    }
   ],
   "source": [
    "fig, ax = plt.subplots(figsize=(10, 10))\n",
    "sns.heatmap(spotify.corr(), annot=True, cmap='crest', linewidth=5)"
   ]
  },
  {
   "attachments": {},
   "cell_type": "markdown",
   "metadata": {},
   "source": [
    "<center>Correlation map (heat map)</center>\n",
    "\n",
    "* danceability, loudness and speachness has the highest correlation to liked\n",
    "* danceability has high correlation with loudness and valance\n",
    "* loudness has exceptionally high correlation with keys"
   ]
  },
  {
   "attachments": {},
   "cell_type": "markdown",
   "metadata": {},
   "source": [
    "---"
   ]
  },
  {
   "attachments": {},
   "cell_type": "markdown",
   "metadata": {},
   "source": [
    "<center>Feature selection</center>\n",
    "\n",
    "* **Feature selection:** Is a method of reducing the input variables when when developing a model \n",
    "* less is more. is what comes to mind when using feature selection, reducing the number of input variable\n",
    "  can reduce the computational cost and sometimes improve the accuracy of the model\n",
    "* although this process is **not** done blindly, one method is to look at the significant/meaningful correlation\n",
    "  between the feature and target for example if we had **index** feature it has no significant importance to target \n",
    "  Liked \n",
    "\n",
    "> The filter methods are as follows:\n",
    "> * removing features with low variance A.K.A variance threshold\n",
    "> * Kbest models for classification\n",
    "> * Information gain\n",
    "\n",
    "**Advantages**\n",
    "* simplification of models to make them easier to interpret by researchers/users,\n",
    "* shorter training times,\n",
    "* to avoid the curse of dimensionality,\n",
    "* improve data's compatibility with a learning model class,\n",
    "* encode inherent symmetries present in the input space.\n",
    "\n",
    "[Source](https://www.kaggle.com/code/kaanboke/feature-selection-the-most-common-methods-to-know)"
   ]
  },
  {
   "attachments": {},
   "cell_type": "markdown",
   "metadata": {},
   "source": [
    "---"
   ]
  },
  {
   "attachments": {},
   "cell_type": "markdown",
   "metadata": {},
   "source": [
    "<center>Extra tree feature selection</center>\n",
    "\n",
    "* Extra Trees (or Extremely Randomized Trees) is a tree-based feature selection algorithm that randomly splits the data at each node of the decision tree. This randomness helps to reduce the variance of the model and can result in better generalization performance.\n",
    "* In Extra Trees, the feature importance is measured by computing the average decrease in impurity (or Gini index) caused by each feature. Features that cause a large decrease in impurity are considered more important.\n",
    "* The Extra Trees algorithm can be used for both classification and regression problems, and can handle both continuous and categorical features. It can also be used to estimate the number of features required to achieve a certain level of performance."
   ]
  },
  {
   "cell_type": "code",
   "execution_count": 26,
   "metadata": {},
   "outputs": [
    {
     "name": "stdout",
     "output_type": "stream",
     "text": [
      "1. instrumentalness: 0.16690691797233861\n",
      "2. speechiness: 0.16333279780885682\n",
      "3. danceability: 0.12319993557525138\n",
      "4. duration_ms: 0.11458160360711078\n",
      "5. tempo: 0.09887666173631789\n"
     ]
    }
   ],
   "source": [
    "X = spotify.drop(['liked'], axis=1)\n",
    "y = spotify['liked']\n",
    "\n",
    "# Split the data into training and testing sets\n",
    "X_train, X_test, y_train, y_test = train_test_split(X, y, test_size=0.2, random_state=42)\n",
    "\n",
    "# Create a ExtraTreesClassifier object\n",
    "model = ExtraTreesClassifier()\n",
    "\n",
    "# Fit the model on the data\n",
    "model.fit(X, y)\n",
    "\n",
    "# Get the feature importances and sort them in descending order\n",
    "importances = model.feature_importances_\n",
    "indices = np.argsort(importances)[::-1]\n",
    "\n",
    "# Print the top 10 most important features\n",
    "for i in range(5):\n",
    "    print(f\"{i+1}. {X.columns[indices[i]]}: {importances[indices[i]]}\")"
   ]
  },
  {
   "attachments": {},
   "cell_type": "markdown",
   "metadata": {},
   "source": [
    "Tree algorithm use/are feature engineering in a way for more detailed Explanation of and implementation from scratch of\n",
    "decision tree [Click Me](https://github.com/ayman-codes/machine_learning/tree/master/decision%20tree)"
   ]
  },
  {
   "cell_type": "markdown",
   "metadata": {},
   "source": [
    "<center>K-best</center>\n",
    "\n",
    "* The k-best algorithm is a feature selection method that selects the top k features that are most relevant to the target variable.\n",
    "* It works by scoring each feature using a statistical test (such as ANOVA or chi-squared test) to measure the correlation between each feature and the target variable.\n",
    "* The k-best algorithm then selects the top k features with the highest scores, discarding the rest of the features. The value of k is typically chosen based on domain knowledge or through trial and error."
   ]
  },
  {
   "cell_type": "code",
   "execution_count": 27,
   "metadata": {},
   "outputs": [
    {
     "name": "stdout",
     "output_type": "stream",
     "text": [
      "Selected features:\n",
      "- danceability\n",
      "- energy\n",
      "- loudness\n",
      "- speechiness\n",
      "- acousticness\n",
      "- instrumentalness\n",
      "- valence\n",
      "- tempo\n",
      "- duration_ms\n",
      "- time_signature\n"
     ]
    }
   ],
   "source": [
    "# Split the dataset into features and target variable\n",
    "X = spotify.drop(['liked'], axis=1)\n",
    "y = spotify['liked']\n",
    "\n",
    "# Split the data into training and testing sets\n",
    "X_train, X_test, y_train, y_test = train_test_split(X, y, test_size=0.2, random_state=42)\n",
    "\n",
    "# Create a SelectKBest object with the f_regression scoring function\n",
    "selector = SelectKBest(f_regression, k=10)\n",
    "\n",
    "# Fit the selector on the data\n",
    "X_feature_selection = selector.fit(X, y)\n",
    "\n",
    "# Get the indices of the selected features\n",
    "indices = selector.get_support(indices=True)\n",
    "\n",
    "# Get the names of the selected features\n",
    "selected_features = X.columns[indices]\n",
    "\n",
    "# Print the names of the selected features\n",
    "print(\"Selected features:\")\n",
    "for feature in selected_features:\n",
    "    print(\"- \" + feature)"
   ]
  },
  {
   "cell_type": "code",
   "execution_count": 28,
   "metadata": {},
   "outputs": [],
   "source": [
    "scaler = MinMaxScaler()\n",
    "\n",
    "num_cols = ['danceability', 'energy', 'loudness', 'speechiness', 'acousticness', 'instrumentalness', 'valence', 'tempo', 'duration_ms', 'time_signature']\n",
    "\n",
    "spotify[num_cols] = scaler.fit_transform(spotify[num_cols])"
   ]
  },
  {
   "cell_type": "code",
   "execution_count": 29,
   "metadata": {},
   "outputs": [
    {
     "name": "stdout",
     "output_type": "stream",
     "text": [
      "Old Shape: (156, 13) New shape: (156, 10)\n",
      "Old Shape: (39, 13) New shape: (39, 10)\n"
     ]
    }
   ],
   "source": [
    "transformedX_train = X_feature_selection.transform(X_train)\n",
    "transformedX_test = X_feature_selection.transform(X_test)\n",
    "print(f\"Old Shape: {X_train.shape} New shape: {transformedX_train.shape}\")\n",
    "print(f\"Old Shape: {X_test.shape} New shape: {transformedX_test.shape}\")"
   ]
  },
  {
   "cell_type": "code",
   "execution_count": 30,
   "metadata": {},
   "outputs": [
    {
     "name": "stdout",
     "output_type": "stream",
     "text": [
      "10 14\n"
     ]
    }
   ],
   "source": [
    "print(len(selected_features), len(spotify.columns))"
   ]
  },
  {
   "attachments": {},
   "cell_type": "markdown",
   "metadata": {},
   "source": [
    "well it seems both extra tree and k-best are in agreement!"
   ]
  },
  {
   "cell_type": "markdown",
   "metadata": {},
   "source": [
    "<a id=400></a>\n",
    "<h4 style= 'Background:deeppink; color:white; border:0'><center>Q2-A Choosing a model type 🤖</center></h3>"
   ]
  },
  {
   "attachments": {},
   "cell_type": "markdown",
   "metadata": {},
   "source": [
    "<center>Choosing a model</center>\n",
    "\n",
    "* Classification is a type of supervised learning algorithm where the goal is to predict a categorical label or class based on a set of input features. It is used for tasks such as image classification, spam detection, and sentiment analysis.\n",
    "\n",
    "* Regression is a type of supervised learning algorithm where the goal is to predict a continuous numerical output based on a set of input features. It is used for tasks such as predicting stock prices, estimating house prices, and forecasting sales.\n",
    "\n",
    "* Clustering is a type of unsupervised learning algorithm where the goal is to group similar data points together based on their feature similarities. It is used for tasks such as customer segmentation, image segmentation, and anomaly detection. Clustering does not require labeled data, and the algorithm must discover the underlying structure of the data on its own.\n",
    "\n",
    "> since we're predicting liked and not liked data it's best to use regression\n",
    "> because of the other features that we have that contain cont numerical data"
   ]
  },
  {
   "cell_type": "code",
   "execution_count": 31,
   "metadata": {},
   "outputs": [],
   "source": [
    "# emmpty list to compare models\n",
    "model_accuracy = []\n",
    "\n",
    "# define the base models\n",
    "lr = LinearRegression()\n",
    "dtr = DecisionTreeRegressor()\n",
    "rfr = RandomForestRegressor()\n",
    "xgb = xgb.XGBRegressor()\n",
    "svr = SVR()\n",
    "\n",
    "# fitting the models\n",
    "lr.fit(transformedX_train,y_train)\n",
    "dtr.fit(transformedX_train,y_train)\n",
    "rfr.fit(transformedX_train,y_train)\n",
    "xgb.fit(transformedX_train,y_train)\n",
    "svr.fit(transformedX_train,y_train)\n",
    "\n",
    "#Evaluate the models on the test set\n",
    "lr_score = r2_score(y_test, lr.predict(transformedX_test))\n",
    "dt_score = r2_score(y_test, dtr.predict(transformedX_test))\n",
    "rfr_score = r2_score(y_test, rfr.predict(transformedX_test))\n",
    "svm_score = r2_score(y_test, svr.predict(transformedX_test))\n",
    "xgb_score = r2_score(y_test, xgb.predict(transformedX_test))\n",
    "\n",
    "#append the models for plotting\n",
    "model_accuracy.append(lr_score)\n",
    "model_accuracy.append(dt_score)\n",
    "model_accuracy.append(rfr_score)\n",
    "model_accuracy.append(xgb_score)\n",
    "model_accuracy.append(svm_score)"
   ]
  },
  {
   "cell_type": "code",
   "execution_count": 32,
   "metadata": {},
   "outputs": [
    {
     "data": {
      "image/png": "[encoded data removed]",
      "text/plain": [
       "<Figure size 1500x600 with 1 Axes>"
      ]
     },
     "metadata": {},
     "output_type": "display_data"
    }
   ],
   "source": [
    "labels = [\"Linear Regression\", \"Decision Tree\", \"RandomForest\", \"XGBOOST\", \"SupportVector\"]\n",
    "plt.rcParams['figure.figsize']=15,6 \n",
    "sns.set_style(\"darkgrid\")\n",
    "ax = sns.barplot(x=labels, y=model_accuracy, palette = \"crest\", saturation =1.5)\n",
    "plt.xlabel(\"Classifier Models\", fontsize = 18)\n",
    "plt.ylabel(\"Model Accuracy\", fontsize = 18, fontweight = \"bold\")\n",
    "plt.title(\"Accuracy of different Classifier Models\", fontsize = 18, fontweight = \"bold\")\n",
    "plt.xticks(fontsize = 12, horizontalalignment = 'center', rotation = 8)\n",
    "plt.yticks(fontsize = 13)\n",
    "#get the model accuracy percentage\n",
    "for percent in ax.patches:\n",
    "    width, height = percent.get_width(), percent.get_height()\n",
    "    x, y = percent.get_xy()  \n",
    "    ax.annotate(f'{height:.2%}', (x + width/2, y + height*1.02), ha='center', fontsize = 'x-large')\n",
    "plt.show()"
   ]
  },
  {
   "attachments": {},
   "cell_type": "markdown",
   "metadata": {},
   "source": [
    "we will use weighted ensemble, using decision tree, linear and support vector 50% weight all together\n",
    "while random forest and xgb will get 50% together"
   ]
  },
  {
   "attachments": {},
   "cell_type": "markdown",
   "metadata": {},
   "source": [
    "---"
   ]
  },
  {
   "attachments": {},
   "cell_type": "markdown",
   "metadata": {},
   "source": []
  },
  {
   "attachments": {},
   "cell_type": "markdown",
   "metadata": {},
   "source": [
    "<a id=400></a>\n",
    "<h4 style= 'Background:deeppink; color:white; border:0'><center>Q4 Weighted Ensemble Learning 🧠</center></h3>\n",
    "\n",
    "> Weighted ensemble is a technique used in machine learning to combine the predictions of multiple models by assigning a weight to each model's prediction.\n",
    ">\n",
    "> * The weights are assigned based on the accuracy of each model's predictions on a validation set.\n",
    "The more accurate a model is, the higher its weight will be.\n",
    "> * The final prediction is then calculated by taking a weighted average of the predictions from all the models.\n",
    "> * The advantage of weighted ensemble is that it can improve the overall accuracy of the predictions by reducing the impact of poorly performing models."
   ]
  },
  {
   "cell_type": "code",
   "execution_count": 33,
   "metadata": {},
   "outputs": [],
   "source": [
    "# define the ensemble model\n",
    "ensemble = VotingRegressor(estimators=[('lr', lr), ('dt', dtr), ('rf', rfr), ('xgb', xgb), ('SVR', svr)],\n",
    "                           weights=[1, 2, 3, 3, 1])\n",
    "\n",
    "ensemble.fit(transformedX_train,y_train)\n",
    "\n",
    "# fit the ensemble model\n",
    "ensemble.fit(transformedX_train, y_train)\n",
    "\n",
    "#Evaluate the models on the test set\n",
    "ensemble_score = r2_score(y_test, ensemble.predict(transformedX_test))\n",
    "\n",
    "# make predictions on the test set\n",
    "y_pred = ensemble.predict(transformedX_test)\n",
    "\n",
    "# append the accuracy for plotting comparison\n",
    "model_accuracy.append(ensemble_score)"
   ]
  },
  {
   "cell_type": "code",
   "execution_count": 34,
   "metadata": {},
   "outputs": [
    {
     "data": {
      "image/png": "[encoded data removed]",
      "text/plain": [
       "<Figure size 1500x600 with 1 Axes>"
      ]
     },
     "metadata": {},
     "output_type": "display_data"
    }
   ],
   "source": [
    "labels = [\"Linear Regression\", \"Decision Tree\", \"RandomForest\", \"XGBOOST\", \"SupportVector\",  \"Ensemble\"]\n",
    "plt.rcParams['figure.figsize']=15,6 \n",
    "sns.set_style(\"darkgrid\")\n",
    "ax = sns.barplot(x=labels, y=model_accuracy, palette = \"rocket\", saturation =1.5)\n",
    "plt.xlabel(\"Classifier Models\", fontsize = 18)\n",
    "plt.ylabel(\"Model Accuracy\", fontsize = 18, fontweight = \"bold\")\n",
    "plt.title(\"Accuracy of different Classifier Models\", fontsize = 18, fontweight = \"bold\")\n",
    "plt.xticks(fontsize = 12, horizontalalignment = 'center', rotation = 8)\n",
    "plt.yticks(fontsize = 13)\n",
    "#get the model accuracy percentage\n",
    "for percent in ax.patches:\n",
    "    width, height = percent.get_width(), percent.get_height()\n",
    "    x, y = percent.get_xy()  \n",
    "    ax.annotate(f'{height:.2%}', (x + width/2, y + height*1.02), ha='center', fontsize = 'x-large')\n",
    "plt.show()"
   ]
  },
  {
   "cell_type": "code",
   "execution_count": 35,
   "metadata": {},
   "outputs": [
    {
     "data": {
      "text/html": [
       "<div>\n",
       "<style scoped>\n",
       "    .dataframe tbody tr th:only-of-type {\n",
       "        vertical-align: middle;\n",
       "    }\n",
       "\n",
       "    .dataframe tbody tr th {\n",
       "        vertical-align: top;\n",
       "    }\n",
       "\n",
       "    .dataframe thead th {\n",
       "        text-align: right;\n",
       "    }\n",
       "</style>\n",
       "<table border=\"1\" class=\"dataframe\">\n",
       "  <thead>\n",
       "    <tr style=\"text-align: right;\">\n",
       "      <th></th>\n",
       "      <th>danceability</th>\n",
       "      <th>energy</th>\n",
       "      <th>loudness</th>\n",
       "      <th>speechiness</th>\n",
       "      <th>acousticness</th>\n",
       "      <th>instrumentalness</th>\n",
       "      <th>valence</th>\n",
       "      <th>tempo</th>\n",
       "      <th>duration_ms</th>\n",
       "      <th>time_signature</th>\n",
       "    </tr>\n",
       "  </thead>\n",
       "  <tbody>\n",
       "    <tr>\n",
       "      <th>0</th>\n",
       "      <td>0.824755</td>\n",
       "      <td>0.625604</td>\n",
       "      <td>0.889092</td>\n",
       "      <td>0.038852</td>\n",
       "      <td>0.453265</td>\n",
       "      <td>0.000757</td>\n",
       "      <td>0.627395</td>\n",
       "      <td>0.298644</td>\n",
       "      <td>0.393282</td>\n",
       "      <td>0.75</td>\n",
       "    </tr>\n",
       "  </tbody>\n",
       "</table>\n",
       "</div>"
      ],
      "text/plain": [
       "   danceability    energy  loudness  speechiness  acousticness  \\\n",
       "0      0.824755  0.625604  0.889092     0.038852      0.453265   \n",
       "\n",
       "   instrumentalness   valence     tempo  duration_ms  time_signature  \n",
       "0          0.000757  0.627395  0.298644     0.393282            0.75  "
      ]
     },
     "execution_count": 35,
     "metadata": {},
     "output_type": "execute_result"
    }
   ],
   "source": [
    "# list of selected features\n",
    "selected_features = ['danceability', 'energy', 'loudness', 'speechiness', 'acousticness', 'instrumentalness', 'valence', 'tempo', 'duration_ms', 'time_signature']\n",
    "\n",
    "# drop all columns except for selected ones\n",
    "df = spotify[selected_features]\n",
    "\n",
    "df.head(1)"
   ]
  },
  {
   "cell_type": "code",
   "execution_count": 36,
   "metadata": {},
   "outputs": [
    {
     "name": "stdout",
     "output_type": "stream",
     "text": [
      "Predicted likeability is: [0.2222964]\n"
     ]
    }
   ],
   "source": [
    "# Make a prediction using the trained voting regressor\n",
    "X_test = [[0.824755, 0.625604, 0.889092, 0.038852, 0.453265, 0.000757, 0.627395, 0.298644, 304524, 4]]\n",
    "prediction = ensemble.predict(X_test)\n",
    "\n",
    "# Print the predicted value\n",
    "print(\"Predicted likeability is:\", prediction)\n"
   ]
  },
  {
   "cell_type": "code",
   "execution_count": 37,
   "metadata": {},
   "outputs": [
    {
     "data": {
      "text/plain": [
       "0    0\n",
       "Name: liked, dtype: int64"
      ]
     },
     "execution_count": 37,
     "metadata": {},
     "output_type": "execute_result"
    }
   ],
   "source": [
    "spotify['liked'].head(1)"
   ]
  },
  {
   "attachments": {},
   "cell_type": "markdown",
   "metadata": {},
   "source": [
    "the song details of \"Him & I\" by G-Eazy and Halsey as provided by the Spotify API:\n",
    "\n",
    "- Danceability: 0.679\n",
    "- Energy: 0.661\n",
    "- Loudness: -6.365 dB\n",
    "- Speechiness: 0.0412\n",
    "- Acousticness: 0.0777\n",
    "- Instrumentalness: 0.0000331\n",
    "- Valence: 0.485\n",
    "- Tempo: 88.951 BPM\n",
    "- Duration_ms: 284927 ms\n",
    "- Time_signature: 4/4"
   ]
  },
  {
   "cell_type": "code",
   "execution_count": 38,
   "metadata": {},
   "outputs": [],
   "source": [
    "# create a dictionary with the new row data\n",
    "new_row = {'danceability': 0.679, 'energy': 0.729, 'loudness': -5.315, 'speechiness': 0.0525, \n",
    "           'acousticness': 0.0522, 'instrumentalness': 0, 'valence': 0.471, 'tempo': 88.951, \n",
    "           'duration_ms': 216840, 'time_signature': 4}\n",
    "\n",
    "# create a new DataFrame with the new row\n",
    "new_df = pd.DataFrame(new_row, index=[df.shape[0]])\n",
    "\n",
    "# append the new DataFrame to the original DataFrame\n",
    "df = df.append(new_df)\n"
   ]
  },
  {
   "cell_type": "code",
   "execution_count": 39,
   "metadata": {},
   "outputs": [
    {
     "data": {
      "text/html": [
       "<div>\n",
       "<style scoped>\n",
       "    .dataframe tbody tr th:only-of-type {\n",
       "        vertical-align: middle;\n",
       "    }\n",
       "\n",
       "    .dataframe tbody tr th {\n",
       "        vertical-align: top;\n",
       "    }\n",
       "\n",
       "    .dataframe thead th {\n",
       "        text-align: right;\n",
       "    }\n",
       "</style>\n",
       "<table border=\"1\" class=\"dataframe\">\n",
       "  <thead>\n",
       "    <tr style=\"text-align: right;\">\n",
       "      <th></th>\n",
       "      <th>danceability</th>\n",
       "      <th>energy</th>\n",
       "      <th>loudness</th>\n",
       "      <th>speechiness</th>\n",
       "      <th>acousticness</th>\n",
       "      <th>instrumentalness</th>\n",
       "      <th>valence</th>\n",
       "      <th>tempo</th>\n",
       "      <th>duration_ms</th>\n",
       "      <th>time_signature</th>\n",
       "    </tr>\n",
       "  </thead>\n",
       "  <tbody>\n",
       "    <tr>\n",
       "      <th>193</th>\n",
       "      <td>0.544118</td>\n",
       "      <td>0.731280</td>\n",
       "      <td>0.912286</td>\n",
       "      <td>0.134127</td>\n",
       "      <td>0.040801</td>\n",
       "      <td>0.000004</td>\n",
       "      <td>0.399809</td>\n",
       "      <td>0.420273</td>\n",
       "      <td>0.195561</td>\n",
       "      <td>1.00</td>\n",
       "    </tr>\n",
       "    <tr>\n",
       "      <th>194</th>\n",
       "      <td>0.756127</td>\n",
       "      <td>0.667874</td>\n",
       "      <td>0.862016</td>\n",
       "      <td>0.330340</td>\n",
       "      <td>0.130651</td>\n",
       "      <td>0.000000</td>\n",
       "      <td>0.524717</td>\n",
       "      <td>0.144629</td>\n",
       "      <td>0.173025</td>\n",
       "      <td>0.75</td>\n",
       "    </tr>\n",
       "    <tr>\n",
       "      <th>195</th>\n",
       "      <td>0.679000</td>\n",
       "      <td>0.729000</td>\n",
       "      <td>-5.315000</td>\n",
       "      <td>0.052500</td>\n",
       "      <td>0.052200</td>\n",
       "      <td>0.000000</td>\n",
       "      <td>0.471000</td>\n",
       "      <td>88.951000</td>\n",
       "      <td>216840.000000</td>\n",
       "      <td>4.00</td>\n",
       "    </tr>\n",
       "  </tbody>\n",
       "</table>\n",
       "</div>"
      ],
      "text/plain": [
       "     danceability    energy  loudness  speechiness  acousticness  \\\n",
       "193      0.544118  0.731280  0.912286     0.134127      0.040801   \n",
       "194      0.756127  0.667874  0.862016     0.330340      0.130651   \n",
       "195      0.679000  0.729000 -5.315000     0.052500      0.052200   \n",
       "\n",
       "     instrumentalness   valence      tempo    duration_ms  time_signature  \n",
       "193          0.000004  0.399809   0.420273       0.195561            1.00  \n",
       "194          0.000000  0.524717   0.144629       0.173025            0.75  \n",
       "195          0.000000  0.471000  88.951000  216840.000000            4.00  "
      ]
     },
     "execution_count": 39,
     "metadata": {},
     "output_type": "execute_result"
    }
   ],
   "source": [
    "df.tail(3)"
   ]
  },
  {
   "cell_type": "code",
   "execution_count": 40,
   "metadata": {},
   "outputs": [],
   "source": [
    "num_cols = ['danceability', 'energy', 'loudness', 'speechiness', 'acousticness', 'instrumentalness', 'valence', 'tempo', 'duration_ms', 'time_signature']\n",
    "\n",
    "df[num_cols] = scaler.fit_transform(df[num_cols])"
   ]
  },
  {
   "cell_type": "code",
   "execution_count": 41,
   "metadata": {},
   "outputs": [
    {
     "data": {
      "text/html": [
       "<div>\n",
       "<style scoped>\n",
       "    .dataframe tbody tr th:only-of-type {\n",
       "        vertical-align: middle;\n",
       "    }\n",
       "\n",
       "    .dataframe tbody tr th {\n",
       "        vertical-align: top;\n",
       "    }\n",
       "\n",
       "    .dataframe thead th {\n",
       "        text-align: right;\n",
       "    }\n",
       "</style>\n",
       "<table border=\"1\" class=\"dataframe\">\n",
       "  <thead>\n",
       "    <tr style=\"text-align: right;\">\n",
       "      <th></th>\n",
       "      <th>danceability</th>\n",
       "      <th>energy</th>\n",
       "      <th>loudness</th>\n",
       "      <th>speechiness</th>\n",
       "      <th>acousticness</th>\n",
       "      <th>instrumentalness</th>\n",
       "      <th>valence</th>\n",
       "      <th>tempo</th>\n",
       "      <th>duration_ms</th>\n",
       "      <th>time_signature</th>\n",
       "    </tr>\n",
       "  </thead>\n",
       "  <tbody>\n",
       "    <tr>\n",
       "      <th>195</th>\n",
       "      <td>0.679</td>\n",
       "      <td>0.729</td>\n",
       "      <td>0.0</td>\n",
       "      <td>0.0525</td>\n",
       "      <td>0.0522</td>\n",
       "      <td>0.0</td>\n",
       "      <td>0.471</td>\n",
       "      <td>1.0</td>\n",
       "      <td>1.0</td>\n",
       "      <td>1.0</td>\n",
       "    </tr>\n",
       "  </tbody>\n",
       "</table>\n",
       "</div>"
      ],
      "text/plain": [
       "     danceability  energy  loudness  speechiness  acousticness  \\\n",
       "195         0.679   0.729       0.0       0.0525        0.0522   \n",
       "\n",
       "     instrumentalness  valence  tempo  duration_ms  time_signature  \n",
       "195               0.0    0.471    1.0          1.0             1.0  "
      ]
     },
     "execution_count": 41,
     "metadata": {},
     "output_type": "execute_result"
    }
   ],
   "source": [
    "df.tail(1)"
   ]
  },
  {
   "cell_type": "code",
   "execution_count": 42,
   "metadata": {},
   "outputs": [
    {
     "name": "stdout",
     "output_type": "stream",
     "text": [
      "Predicted likeability is: 44.28%\n"
     ]
    }
   ],
   "source": [
    "# Make a prediction using the trained voting regressor\n",
    "X_test = [[0.679, 0.729, 0.812, 0.0525, 0.0522, 0.0, 0.471, 1.0, 1.0, 1.0]]\n",
    "prediction = ensemble.predict(X_test)\n",
    "\n",
    "# Print the predicted value\n",
    "print(f\"Predicted likeability is: {round((prediction[0]*100),3)}%\")"
   ]
  },
  {
   "attachments": {},
   "cell_type": "markdown",
   "metadata": {},
   "source": [
    "well I guess he/she would like him&I :)"
   ]
  }
 ],
 "metadata": {
  "kernelspec": {
   "display_name": "base",
   "language": "python",
   "name": "python3"
  },
  "language_info": {
   "codemirror_mode": {
    "name": "ipython",
    "version": 3
   },
   "file_extension": ".py",
   "mimetype": "text/x-python",
   "name": "python",
   "nbconvert_exporter": "python",
   "pygments_lexer": "ipython3",
   "version": "3.9.16"
  },
  "orig_nbformat": 4
 },
 "nbformat": 4,
 "nbformat_minor": 2
}
